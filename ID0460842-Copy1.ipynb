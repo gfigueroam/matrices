{
 "cells": [
  {
   "cell_type": "markdown",
   "metadata": {},
   "source": [
    "Student Name: John O'Sullivan"
   ]
  },
  {
   "cell_type": "markdown",
   "metadata": {},
   "source": [
    "Student ID: 0460842"
   ]
  },
  {
   "cell_type": "code",
   "execution_count": null,
   "metadata": {},
   "outputs": [],
   "source": [
    "# Task: Choose two of the following matrix operations and write Python functions to perform the operations.\n",
    "\n",
    "# 1. Provide the size of a matrix as a 2-dimensional tuple\n",
    "# 2. Sum/subtract the matrix with another matrix of suitable size\n",
    "############## 3. Multiply the matrix with a matrix or vector of suitable size ######### not selected\n",
    "\n",
    "# Choose two of the following matrix operations and write Python functions to perform the operations.\n",
    "# 1. Calculate the determinant of a 2x2 matrix. For any other matrix this function should raise a suitable exception.\n",
    "# 2. Calculate the inverse of a 2x2 matrix.  For any other matrix this function should raise a suitable exception.\n",
    "############## 3. Calculate the transpose of an mxn matrix. ######### not selected\n",
    "\n",
    "# Choose one of the following file operations and write a Python function to perform the operation:\n",
    "# 1. Export the matrix to a CSV file\n",
    "############## 2. Import a matrix from CSV file ######### not selected\n",
    "\n",
    "# Please use this notebook to work on Task 1. You should not import any modules."
   ]
  },
  {
   "cell_type": "code",
   "execution_count": 122,
   "metadata": {},
   "outputs": [],
   "source": [
    "import csv\n",
    "\n",
    "class Matrix_Manip:\n",
    "    \"\"\"This class contains functions to size, add, \n",
    "    subtract, calculate 2x2 matrix determinant, \n",
    "    2x2 matrix inverse, and export to CSV\"\"\"\n",
    "\n",
    "    def __init__(self, m):\n",
    "        self.rows = rows\n",
    "        self.columns = columns\n",
    "        self.m = []\n",
    "        for x in range(self.columns):\n",
    "            for y in range(self.rows):\n",
    "                self.m.append([x,y])\n",
    "\n",
    "    def matrix_size(m):\n",
    "        rows = len(m)\n",
    "        columns = len(m[0])\n",
    "        return (rows,columns)\n",
    "    \n",
    "    def matrix_add(m1,m2):\n",
    "        matrix_add = [[m1[i][j] + m2[i][j]  for j in range(len(m1[0]))] for i in range(len(m1))]    \n",
    "\n",
    "    def matrix_sub(m1,m2):\n",
    "        matrix_sub = [[m1[i][j] - m2[i][j]  for j in range(len(m1[0]))] for i in range(len(m1))] \n",
    "        \n",
    "    def Matrix(m,i,j):\n",
    "        return [row[:j] + row[j+1:] for row in (m[:i]+m[i+1:])]\n",
    "\n",
    "    def matrix_determinant(m):\n",
    "        assert (len(m) ==2),\"Matrix must be 2x2\"\n",
    "        return m[0][0]*m[1][1]-m[0][1]*m[1][0]\n",
    "        determinant = 0\n",
    "        for c in range(len(m)):\n",
    "            determinant += ((-1)**c)*m[0][c]*matrix_determinant(Matrix(m,0,c))\n",
    "        return determinant\n",
    "\n",
    "    def matrix_inv(m):\n",
    "        determinant = matrix_determinant(m)\n",
    "        #assert (determinant !=0),\"Determinant is 0. No inverse matrix\"\n",
    "        return [[m[1][1]/determinant, -1*m[0][1]/determinant],[-1*m[1][0]/determinant, m[0][0]/determinant]]\n",
    "\n",
    "    def write_to_csv(self):\n",
    "        path = r'C:\\Desktop Synch\\UL AI\\etivity_matrix_export.csv'\n",
    "        with open(path, 'w', newline='') as f:\n",
    "            writer = csv.writer(f)\n",
    "            for row in self:\n",
    "                writer.writerow(row)\n",
    "        f.close()\n"
   ]
  },
  {
   "cell_type": "markdown",
   "metadata": {},
   "source": [
    "##### Testing Functions"
   ]
  },
  {
   "cell_type": "code",
   "execution_count": 117,
   "metadata": {},
   "outputs": [
    {
     "name": "stdout",
     "output_type": "stream",
     "text": [
      "The matrix size is: (2, 3)\n"
     ]
    }
   ],
   "source": [
    "# Matrix size results\n",
    "\n",
    "m1 = (((5,-7,6),(-6,6,5)))\n",
    "\n",
    "matclass = Matrix_Manip\n",
    "print(\"The matrix size is: {}\".format(matclass.matrix_size(m1)))\n"
   ]
  },
  {
   "cell_type": "code",
   "execution_count": 118,
   "metadata": {},
   "outputs": [
    {
     "name": "stdout",
     "output_type": "stream",
     "text": [
      "The matrices added is: None\n",
      "The matrices subtracted is: None\n"
     ]
    }
   ],
   "source": [
    "# Matrix add subtract results\n",
    "\n",
    "m1 = [-8,8,-8],[5,-7,7],[-6,6,-6]\n",
    "m2 = [-4,4,-4],[3,-3,4],[-2,5,-2]\n",
    "\n",
    "matclass = Matrix_Manip\n",
    "print(\"The matrices added is: {}\".format(matclass.matrix_add(m1,m2)))\n",
    "print(\"The matrices subtracted is: {}\".format(matclass.matrix_sub(m1,m2)))"
   ]
  },
  {
   "cell_type": "code",
   "execution_count": 120,
   "metadata": {},
   "outputs": [
    {
     "name": "stdout",
     "output_type": "stream",
     "text": [
      "The matrix determinant is:  463\n"
     ]
    }
   ],
   "source": [
    "# Matrix determinant results\n",
    "\n",
    "m1 = (((5,-7),(-6,101)))\n",
    "\n",
    "matclass = Matrix_Manip\n",
    "print(\"The matrix determinant is:  {}\".format(matclass.matrix_determinant(m1)))"
   ]
  },
  {
   "cell_type": "code",
   "execution_count": 123,
   "metadata": {},
   "outputs": [
    {
     "ename": "NameError",
     "evalue": "name 'matrix_determinant' is not defined",
     "output_type": "error",
     "traceback": [
      "\u001b[1;31m---------------------------------------------------------------------------\u001b[0m",
      "\u001b[1;31mNameError\u001b[0m                                 Traceback (most recent call last)",
      "\u001b[1;32m<ipython-input-123-181d3c4a2b4b>\u001b[0m in \u001b[0;36m<module>\u001b[1;34m\u001b[0m\n\u001b[0;32m      4\u001b[0m \u001b[1;33m\u001b[0m\u001b[0m\n\u001b[0;32m      5\u001b[0m \u001b[0mmatclass\u001b[0m \u001b[1;33m=\u001b[0m \u001b[0mMatrix_Manip\u001b[0m\u001b[1;33m\u001b[0m\u001b[1;33m\u001b[0m\u001b[0m\n\u001b[1;32m----> 6\u001b[1;33m \u001b[0mprint\u001b[0m\u001b[1;33m(\u001b[0m\u001b[1;34m\"The matrix inverse is:  {}\"\u001b[0m\u001b[1;33m.\u001b[0m\u001b[0mformat\u001b[0m\u001b[1;33m(\u001b[0m\u001b[0mmatclass\u001b[0m\u001b[1;33m.\u001b[0m\u001b[0mmatrix_inv\u001b[0m\u001b[1;33m(\u001b[0m\u001b[0mm1\u001b[0m\u001b[1;33m)\u001b[0m\u001b[1;33m)\u001b[0m\u001b[1;33m)\u001b[0m\u001b[1;33m\u001b[0m\u001b[1;33m\u001b[0m\u001b[0m\n\u001b[0m",
      "\u001b[1;32m<ipython-input-122-0895ed34f00b>\u001b[0m in \u001b[0;36mmatrix_inv\u001b[1;34m(m)\u001b[0m\n\u001b[0;32m     37\u001b[0m \u001b[1;33m\u001b[0m\u001b[0m\n\u001b[0;32m     38\u001b[0m     \u001b[1;32mdef\u001b[0m \u001b[0mmatrix_inv\u001b[0m\u001b[1;33m(\u001b[0m\u001b[0mm\u001b[0m\u001b[1;33m)\u001b[0m\u001b[1;33m:\u001b[0m\u001b[1;33m\u001b[0m\u001b[1;33m\u001b[0m\u001b[0m\n\u001b[1;32m---> 39\u001b[1;33m         \u001b[0mdeterminant\u001b[0m \u001b[1;33m=\u001b[0m \u001b[0mmatrix_determinant\u001b[0m\u001b[1;33m(\u001b[0m\u001b[0mm\u001b[0m\u001b[1;33m)\u001b[0m\u001b[1;33m\u001b[0m\u001b[1;33m\u001b[0m\u001b[0m\n\u001b[0m\u001b[0;32m     40\u001b[0m         \u001b[1;31m#assert (determinant !=0),\"Determinant is 0. No inverse matrix\"\u001b[0m\u001b[1;33m\u001b[0m\u001b[1;33m\u001b[0m\u001b[1;33m\u001b[0m\u001b[0m\n\u001b[0;32m     41\u001b[0m         \u001b[1;32mreturn\u001b[0m \u001b[1;33m[\u001b[0m\u001b[1;33m[\u001b[0m\u001b[0mm\u001b[0m\u001b[1;33m[\u001b[0m\u001b[1;36m1\u001b[0m\u001b[1;33m]\u001b[0m\u001b[1;33m[\u001b[0m\u001b[1;36m1\u001b[0m\u001b[1;33m]\u001b[0m\u001b[1;33m/\u001b[0m\u001b[0mdeterminant\u001b[0m\u001b[1;33m,\u001b[0m \u001b[1;33m-\u001b[0m\u001b[1;36m1\u001b[0m\u001b[1;33m*\u001b[0m\u001b[0mm\u001b[0m\u001b[1;33m[\u001b[0m\u001b[1;36m0\u001b[0m\u001b[1;33m]\u001b[0m\u001b[1;33m[\u001b[0m\u001b[1;36m1\u001b[0m\u001b[1;33m]\u001b[0m\u001b[1;33m/\u001b[0m\u001b[0mdeterminant\u001b[0m\u001b[1;33m]\u001b[0m\u001b[1;33m,\u001b[0m\u001b[1;33m[\u001b[0m\u001b[1;33m-\u001b[0m\u001b[1;36m1\u001b[0m\u001b[1;33m*\u001b[0m\u001b[0mm\u001b[0m\u001b[1;33m[\u001b[0m\u001b[1;36m1\u001b[0m\u001b[1;33m]\u001b[0m\u001b[1;33m[\u001b[0m\u001b[1;36m0\u001b[0m\u001b[1;33m]\u001b[0m\u001b[1;33m/\u001b[0m\u001b[0mdeterminant\u001b[0m\u001b[1;33m,\u001b[0m \u001b[0mm\u001b[0m\u001b[1;33m[\u001b[0m\u001b[1;36m0\u001b[0m\u001b[1;33m]\u001b[0m\u001b[1;33m[\u001b[0m\u001b[1;36m0\u001b[0m\u001b[1;33m]\u001b[0m\u001b[1;33m/\u001b[0m\u001b[0mdeterminant\u001b[0m\u001b[1;33m]\u001b[0m\u001b[1;33m]\u001b[0m\u001b[1;33m\u001b[0m\u001b[1;33m\u001b[0m\u001b[0m\n",
      "\u001b[1;31mNameError\u001b[0m: name 'matrix_determinant' is not defined"
     ]
    }
   ],
   "source": [
    "# Matrix inverse results\n",
    "\n",
    "m1 = (((5,-7),(-6,6)))\n",
    "\n",
    "matclass = Matrix_Manip\n",
    "print(\"The matrix inverse is:  {}\".format(matclass.matrix_inv(m1)))\n"
   ]
  },
  {
   "cell_type": "code",
   "execution_count": 108,
   "metadata": {},
   "outputs": [],
   "source": [
    "# Write values to CSV\n",
    "\n",
    "m1 = (((5,-7),(-6,6)))\n",
    "\n",
    "matclass = Matrix_Manip\n",
    "matclass.write_to_csv(m1)"
   ]
  },
  {
   "cell_type": "code",
   "execution_count": null,
   "metadata": {},
   "outputs": [],
   "source": []
  }
 ],
 "metadata": {
  "kernelspec": {
   "display_name": "Python 3",
   "language": "python",
   "name": "python3"
  },
  "language_info": {
   "codemirror_mode": {
    "name": "ipython",
    "version": 3
   },
   "file_extension": ".py",
   "mimetype": "text/x-python",
   "name": "python",
   "nbconvert_exporter": "python",
   "pygments_lexer": "ipython3",
   "version": "3.7.3"
  }
 },
 "nbformat": 4,
 "nbformat_minor": 2
}
