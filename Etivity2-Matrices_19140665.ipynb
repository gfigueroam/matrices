{
 "cells": [
  {
   "cell_type": "markdown",
   "metadata": {},
   "source": [
    "Student Name: Melanie Dwane"
   ]
  },
  {
   "cell_type": "markdown",
   "metadata": {},
   "source": [
    "Student ID: 19140665"
   ]
  },
  {
   "cell_type": "markdown",
   "metadata": {},
   "source": [
    "Please use this notebook to work on Task 1. You should not import any modules."
   ]
  },
  {
   "cell_type": "markdown",
   "metadata": {},
   "source": [
    "# Etivity 2: Matrices\n",
    "\n",
    "The operations implemented are:\n",
    "#### 1. The size of a matrix\n",
    "#### 2. Sum/subtract matrix\n",
    "#### 4. Determinant of a 2x2 matrix \n",
    "#### 6. Eigenvalues of a 2x2 matrix\n",
    "#### 7. Export a matrix to CSV"
   ]
  },
  {
   "cell_type": "markdown",
   "metadata": {},
   "source": [
    "----------------------------\n",
    "\n",
    " ### First 4 functions: matrix_size, matrix_addsub, matrix_det, matrix_eigenvalues"
   ]
  },
  {
   "cell_type": "code",
   "execution_count": 71,
   "metadata": {},
   "outputs": [],
   "source": [
    "# Operation 1. Provide the size of a matrix as a 2-dimensional tuple\n",
    "\n",
    "def matrix_size(X):\n",
    "    \n",
    "    n_rows = len(X)\n",
    "    n_cols = len(X[0])\n",
    "    \n",
    "    return (n_rows, n_cols)\n",
    "\n",
    "\n",
    "# Operation 2. Sum/subtract the matrix with another matrix of suitable size\n",
    "   \n",
    "def matrix_addsub(X, Y, operation):\n",
    "    \n",
    "    if matrix_size(X)==matrix_size(Y):\n",
    "        if operation in ('sum', '+') :\n",
    "    \n",
    "            sum_XY= [[X[i][j] + Y[i][j] for j in range(len(X[0]))] for i in range(len(X))] \n",
    "    \n",
    "        elif operation in ('subtract', '-') :\n",
    "        \n",
    "            sum_XY= [[X[i][j] - Y[i][j] for j in range(len(X[0]))] for i in range(len(X))]\n",
    "        \n",
    "        else:\n",
    "            \n",
    "            raise ValueError(\"Operation not valid. Valid options are: 'sum', '+', 'subtract', '-'.\")\n",
    "    \n",
    "\n",
    "    else:\n",
    "        \n",
    "        raise ValueError(\"Matrix dimensions much match. Please review your matrices.\")\n",
    "    \n",
    "    \n",
    "    return print(sum_XY)\n",
    "\n",
    "\n",
    "# Operation 4: Calculate the determinant of a 2x2 matrix. For any other matrix this function should raise a suitable exception.\n",
    "\n",
    "# Determinant of 2x2 matrix A=[[a,b], [c,d]] is |A| = ad-bc\n",
    "\n",
    "def matrix_det(X):\n",
    "    \n",
    "    if matrix_size(X)==(2, 2):\n",
    "        det= X[0][0]*X[1][1] - X[0][1]*X[1][0]\n",
    "        \n",
    "    else:\n",
    "        raise ValueError(\"This function is for 2x2 matrices only. Please enter a 2x2 matrix.\")\n",
    "        \n",
    "    return det\n",
    "        \n",
    "# Operation 6: Calculate the Eigen values of a 2x2 matrix.  For any other matrix this function should raise a suitable exception.\n",
    "\n",
    "# The eigenvalues of a 2x2 matrix A=[[a,b],[c,d]] can be written in terms of the trace and determinant of the matrix.\n",
    "# trace(A) = a + d and tet(A) = ad - bc\n",
    "\n",
    "# A·v=λ·v\n",
    "# A·v-λ·v=0\n",
    "# A·v-λ·I·v=0\n",
    "# (A-λ·I)·v=0\n",
    "\n",
    "# For non zero v this only has a solution if:\n",
    "# |A-λ·I| = 0\n",
    "\n",
    "\n",
    "# |A-λ·I| = |[[a,b],[c,d]] - [[λ,0],[0,λ]]| \n",
    "#         = |[[a-λ, b], [c, d-λ]]| = (a−λ)(d−λ)− bc \n",
    "#         = λ^2 − (a+d)λ +ad−bc \n",
    "#         = λ^2  −tr(A)λ + det(A)\n",
    "\n",
    "# Using the quadratic formula, the roots of this (and so the eigenvalues of A) are:\n",
    " \n",
    "# (trace(A) +/- sqrt(trace(A)^2 - 4det(A)))/2\n",
    "\n",
    "\n",
    "def matrix_eigenvalues(X):\n",
    "    \n",
    "    if matrix_size(X)==(2, 2):\n",
    "        trace = X[0][0] + X[1][1]\n",
    "        det = matrix_det(X)\n",
    "        \n",
    "        eig1 = (trace + (trace**2 - 4*det)**(1/2))/2\n",
    "        eig2 = (trace - (trace**2 - 4*det)**(1/2))/2\n",
    "        \n",
    "    else:\n",
    "        raise ValueError(\"This function is for 2x2 matrices only. Please enter a 2x2 matrix.\")\n",
    "            \n",
    "    return (eig1, eig2)\n",
    "\n"
   ]
  },
  {
   "cell_type": "markdown",
   "metadata": {},
   "source": [
    "------------------------------\n",
    "\n",
    "### Matrices used for testing:"
   ]
  },
  {
   "cell_type": "code",
   "execution_count": 72,
   "metadata": {},
   "outputs": [],
   "source": [
    "A = [[2, 7], \n",
    "     [4, 6]]\n",
    "\n",
    "B = [[1, 4, 5, 4], \n",
    "    [-5, 8, 9, 4],\n",
    "    [5, 2, 7, 1]]\n",
    "\n",
    "C = [[2, 4, -3, 5], \n",
    "     [-5, 8, 2, 3],\n",
    "     [3, -2, 7, 4]]\n",
    "\n",
    "F=[[11,45],\n",
    "   [-74, 92]]\n",
    "\n"
   ]
  },
  {
   "cell_type": "markdown",
   "metadata": {},
   "source": [
    "----------------------------\n",
    "\n",
    " ### Testing the matrix_size function"
   ]
  },
  {
   "cell_type": "code",
   "execution_count": 73,
   "metadata": {},
   "outputs": [
    {
     "data": {
      "text/plain": [
       "(2, 2)"
      ]
     },
     "execution_count": 73,
     "metadata": {},
     "output_type": "execute_result"
    }
   ],
   "source": [
    "matrix_size(A)"
   ]
  },
  {
   "cell_type": "code",
   "execution_count": 74,
   "metadata": {},
   "outputs": [
    {
     "data": {
      "text/plain": [
       "(3, 4)"
      ]
     },
     "execution_count": 74,
     "metadata": {},
     "output_type": "execute_result"
    }
   ],
   "source": [
    "matrix_size(B)"
   ]
  },
  {
   "cell_type": "markdown",
   "metadata": {},
   "source": [
    "----------------------------\n",
    "\n",
    " ### Testing the matrix_addsub function"
   ]
  },
  {
   "cell_type": "code",
   "execution_count": 75,
   "metadata": {},
   "outputs": [
    {
     "name": "stdout",
     "output_type": "stream",
     "text": [
      "[[13, 52], [-70, 98]]\n"
     ]
    }
   ],
   "source": [
    "matrix_addsub(A,F,'+')"
   ]
  },
  {
   "cell_type": "code",
   "execution_count": 76,
   "metadata": {},
   "outputs": [
    {
     "name": "stdout",
     "output_type": "stream",
     "text": [
      "[[-9, -38], [78, -86]]\n"
     ]
    }
   ],
   "source": [
    "matrix_addsub(A,F,'-')"
   ]
  },
  {
   "cell_type": "code",
   "execution_count": 77,
   "metadata": {},
   "outputs": [
    {
     "name": "stdout",
     "output_type": "stream",
     "text": [
      "[[3, 8, 2, 9], [-10, 16, 11, 7], [8, 0, 14, 5]]\n"
     ]
    }
   ],
   "source": [
    "matrix_addsub(B,C, '+')"
   ]
  },
  {
   "cell_type": "code",
   "execution_count": 78,
   "metadata": {},
   "outputs": [
    {
     "ename": "ValueError",
     "evalue": "Operation not valid. Valid options are: 'sum', '+', 'subtract', '-'.",
     "output_type": "error",
     "traceback": [
      "\u001b[1;31m---------------------------------------------------------------------------\u001b[0m",
      "\u001b[1;31mValueError\u001b[0m                                Traceback (most recent call last)",
      "\u001b[1;32m<ipython-input-78-778666543b1f>\u001b[0m in \u001b[0;36m<module>\u001b[1;34m\u001b[0m\n\u001b[0;32m      1\u001b[0m \u001b[1;31m#Test exception\u001b[0m\u001b[1;33m\u001b[0m\u001b[1;33m\u001b[0m\u001b[1;33m\u001b[0m\u001b[0m\n\u001b[1;32m----> 2\u001b[1;33m \u001b[0mmatrix_addsub\u001b[0m\u001b[1;33m(\u001b[0m\u001b[0mB\u001b[0m\u001b[1;33m,\u001b[0m\u001b[0mC\u001b[0m\u001b[1;33m,\u001b[0m\u001b[1;34m'add'\u001b[0m\u001b[1;33m)\u001b[0m\u001b[1;33m\u001b[0m\u001b[1;33m\u001b[0m\u001b[0m\n\u001b[0m",
      "\u001b[1;32m<ipython-input-71-cf66e65310fa>\u001b[0m in \u001b[0;36mmatrix_addsub\u001b[1;34m(X, Y, operation)\u001b[0m\n\u001b[0;32m     24\u001b[0m         \u001b[1;32melse\u001b[0m\u001b[1;33m:\u001b[0m\u001b[1;33m\u001b[0m\u001b[1;33m\u001b[0m\u001b[0m\n\u001b[0;32m     25\u001b[0m \u001b[1;33m\u001b[0m\u001b[0m\n\u001b[1;32m---> 26\u001b[1;33m             \u001b[1;32mraise\u001b[0m \u001b[0mValueError\u001b[0m\u001b[1;33m(\u001b[0m\u001b[1;34m\"Operation not valid. Valid options are: 'sum', '+', 'subtract', '-'.\"\u001b[0m\u001b[1;33m)\u001b[0m\u001b[1;33m\u001b[0m\u001b[1;33m\u001b[0m\u001b[0m\n\u001b[0m\u001b[0;32m     27\u001b[0m \u001b[1;33m\u001b[0m\u001b[0m\n\u001b[0;32m     28\u001b[0m \u001b[1;33m\u001b[0m\u001b[0m\n",
      "\u001b[1;31mValueError\u001b[0m: Operation not valid. Valid options are: 'sum', '+', 'subtract', '-'."
     ]
    }
   ],
   "source": [
    "#Test exception\n",
    "matrix_addsub(B,C,'add')"
   ]
  },
  {
   "cell_type": "code",
   "execution_count": 79,
   "metadata": {},
   "outputs": [
    {
     "ename": "ValueError",
     "evalue": "Matrix dimensions much match. Please review your matrices.",
     "output_type": "error",
     "traceback": [
      "\u001b[1;31m---------------------------------------------------------------------------\u001b[0m",
      "\u001b[1;31mValueError\u001b[0m                                Traceback (most recent call last)",
      "\u001b[1;32m<ipython-input-79-eed0e4b2bc06>\u001b[0m in \u001b[0;36m<module>\u001b[1;34m\u001b[0m\n\u001b[0;32m      1\u001b[0m \u001b[1;31m#Test exception\u001b[0m\u001b[1;33m\u001b[0m\u001b[1;33m\u001b[0m\u001b[1;33m\u001b[0m\u001b[0m\n\u001b[1;32m----> 2\u001b[1;33m \u001b[0mmatrix_addsub\u001b[0m\u001b[1;33m(\u001b[0m\u001b[0mB\u001b[0m\u001b[1;33m,\u001b[0m\u001b[0mA\u001b[0m\u001b[1;33m,\u001b[0m\u001b[1;34m'+'\u001b[0m\u001b[1;33m)\u001b[0m\u001b[1;33m\u001b[0m\u001b[1;33m\u001b[0m\u001b[0m\n\u001b[0m",
      "\u001b[1;32m<ipython-input-71-cf66e65310fa>\u001b[0m in \u001b[0;36mmatrix_addsub\u001b[1;34m(X, Y, operation)\u001b[0m\n\u001b[0;32m     29\u001b[0m     \u001b[1;32melse\u001b[0m\u001b[1;33m:\u001b[0m\u001b[1;33m\u001b[0m\u001b[1;33m\u001b[0m\u001b[0m\n\u001b[0;32m     30\u001b[0m \u001b[1;33m\u001b[0m\u001b[0m\n\u001b[1;32m---> 31\u001b[1;33m         \u001b[1;32mraise\u001b[0m \u001b[0mValueError\u001b[0m\u001b[1;33m(\u001b[0m\u001b[1;34m\"Matrix dimensions much match. Please review your matrices.\"\u001b[0m\u001b[1;33m)\u001b[0m\u001b[1;33m\u001b[0m\u001b[1;33m\u001b[0m\u001b[0m\n\u001b[0m\u001b[0;32m     32\u001b[0m \u001b[1;33m\u001b[0m\u001b[0m\n\u001b[0;32m     33\u001b[0m \u001b[1;33m\u001b[0m\u001b[0m\n",
      "\u001b[1;31mValueError\u001b[0m: Matrix dimensions much match. Please review your matrices."
     ]
    }
   ],
   "source": [
    "#Test exception\n",
    "matrix_addsub(B,A,'+')"
   ]
  },
  {
   "cell_type": "markdown",
   "metadata": {},
   "source": [
    "----------------------------\n",
    "\n",
    " ### Testing the matrix_det function"
   ]
  },
  {
   "cell_type": "code",
   "execution_count": 80,
   "metadata": {},
   "outputs": [
    {
     "data": {
      "text/plain": [
       "-16"
      ]
     },
     "execution_count": 80,
     "metadata": {},
     "output_type": "execute_result"
    }
   ],
   "source": [
    "matrix_det(A)"
   ]
  },
  {
   "cell_type": "code",
   "execution_count": 81,
   "metadata": {},
   "outputs": [
    {
     "data": {
      "text/plain": [
       "4342"
      ]
     },
     "execution_count": 81,
     "metadata": {},
     "output_type": "execute_result"
    }
   ],
   "source": [
    "matrix_det(F)"
   ]
  },
  {
   "cell_type": "code",
   "execution_count": 82,
   "metadata": {},
   "outputs": [
    {
     "ename": "ValueError",
     "evalue": "This function is for 2x2 matrices only. Please enter a 2x2 matrix.",
     "output_type": "error",
     "traceback": [
      "\u001b[1;31m---------------------------------------------------------------------------\u001b[0m",
      "\u001b[1;31mValueError\u001b[0m                                Traceback (most recent call last)",
      "\u001b[1;32m<ipython-input-82-1cfc2e0919f6>\u001b[0m in \u001b[0;36m<module>\u001b[1;34m\u001b[0m\n\u001b[0;32m      1\u001b[0m \u001b[1;31m#Test exception\u001b[0m\u001b[1;33m\u001b[0m\u001b[1;33m\u001b[0m\u001b[1;33m\u001b[0m\u001b[0m\n\u001b[1;32m----> 2\u001b[1;33m \u001b[0mmatrix_det\u001b[0m\u001b[1;33m(\u001b[0m\u001b[0mB\u001b[0m\u001b[1;33m)\u001b[0m\u001b[1;33m\u001b[0m\u001b[1;33m\u001b[0m\u001b[0m\n\u001b[0m",
      "\u001b[1;32m<ipython-input-71-cf66e65310fa>\u001b[0m in \u001b[0;36mmatrix_det\u001b[1;34m(X)\u001b[0m\n\u001b[0;32m     45\u001b[0m \u001b[1;33m\u001b[0m\u001b[0m\n\u001b[0;32m     46\u001b[0m     \u001b[1;32melse\u001b[0m\u001b[1;33m:\u001b[0m\u001b[1;33m\u001b[0m\u001b[1;33m\u001b[0m\u001b[0m\n\u001b[1;32m---> 47\u001b[1;33m         \u001b[1;32mraise\u001b[0m \u001b[0mValueError\u001b[0m\u001b[1;33m(\u001b[0m\u001b[1;34m\"This function is for 2x2 matrices only. Please enter a 2x2 matrix.\"\u001b[0m\u001b[1;33m)\u001b[0m\u001b[1;33m\u001b[0m\u001b[1;33m\u001b[0m\u001b[0m\n\u001b[0m\u001b[0;32m     48\u001b[0m \u001b[1;33m\u001b[0m\u001b[0m\n\u001b[0;32m     49\u001b[0m     \u001b[1;32mreturn\u001b[0m \u001b[0mdet\u001b[0m\u001b[1;33m\u001b[0m\u001b[1;33m\u001b[0m\u001b[0m\n",
      "\u001b[1;31mValueError\u001b[0m: This function is for 2x2 matrices only. Please enter a 2x2 matrix."
     ]
    }
   ],
   "source": [
    "#Test exception\n",
    "matrix_det(B)"
   ]
  },
  {
   "cell_type": "markdown",
   "metadata": {},
   "source": [
    "----------------------------\n",
    "\n",
    " ### Testing the matrix_eigenvalues function"
   ]
  },
  {
   "cell_type": "code",
   "execution_count": 83,
   "metadata": {},
   "outputs": [
    {
     "data": {
      "text/plain": [
       "(9.65685424949238, -1.6568542494923806)"
      ]
     },
     "execution_count": 83,
     "metadata": {},
     "output_type": "execute_result"
    }
   ],
   "source": [
    "matrix_eigenvalues(A)"
   ]
  },
  {
   "cell_type": "code",
   "execution_count": 84,
   "metadata": {},
   "outputs": [
    {
     "data": {
      "text/plain": [
       "((51.5+41.106568818134164j), (51.5-41.106568818134164j))"
      ]
     },
     "execution_count": 84,
     "metadata": {},
     "output_type": "execute_result"
    }
   ],
   "source": [
    "matrix_eigenvalues(F)"
   ]
  },
  {
   "cell_type": "code",
   "execution_count": 85,
   "metadata": {},
   "outputs": [
    {
     "ename": "ValueError",
     "evalue": "This function is for 2x2 matrices only. Please enter a 2x2 matrix.",
     "output_type": "error",
     "traceback": [
      "\u001b[1;31m---------------------------------------------------------------------------\u001b[0m",
      "\u001b[1;31mValueError\u001b[0m                                Traceback (most recent call last)",
      "\u001b[1;32m<ipython-input-85-c779691f27e0>\u001b[0m in \u001b[0;36m<module>\u001b[1;34m\u001b[0m\n\u001b[0;32m      1\u001b[0m \u001b[1;31m#Test exception\u001b[0m\u001b[1;33m\u001b[0m\u001b[1;33m\u001b[0m\u001b[1;33m\u001b[0m\u001b[0m\n\u001b[1;32m----> 2\u001b[1;33m \u001b[0mmatrix_eigenvalues\u001b[0m\u001b[1;33m(\u001b[0m\u001b[0mB\u001b[0m\u001b[1;33m)\u001b[0m\u001b[1;33m\u001b[0m\u001b[1;33m\u001b[0m\u001b[0m\n\u001b[0m",
      "\u001b[1;32m<ipython-input-71-cf66e65310fa>\u001b[0m in \u001b[0;36mmatrix_eigenvalues\u001b[1;34m(X)\u001b[0m\n\u001b[0;32m     83\u001b[0m \u001b[1;33m\u001b[0m\u001b[0m\n\u001b[0;32m     84\u001b[0m     \u001b[1;32melse\u001b[0m\u001b[1;33m:\u001b[0m\u001b[1;33m\u001b[0m\u001b[1;33m\u001b[0m\u001b[0m\n\u001b[1;32m---> 85\u001b[1;33m         \u001b[1;32mraise\u001b[0m \u001b[0mValueError\u001b[0m\u001b[1;33m(\u001b[0m\u001b[1;34m\"This function is for 2x2 matrices only. Please enter a 2x2 matrix.\"\u001b[0m\u001b[1;33m)\u001b[0m\u001b[1;33m\u001b[0m\u001b[1;33m\u001b[0m\u001b[0m\n\u001b[0m\u001b[0;32m     86\u001b[0m \u001b[1;33m\u001b[0m\u001b[0m\n\u001b[0;32m     87\u001b[0m     \u001b[1;32mreturn\u001b[0m \u001b[1;33m(\u001b[0m\u001b[0meig1\u001b[0m\u001b[1;33m,\u001b[0m \u001b[0meig2\u001b[0m\u001b[1;33m)\u001b[0m\u001b[1;33m\u001b[0m\u001b[1;33m\u001b[0m\u001b[0m\n",
      "\u001b[1;31mValueError\u001b[0m: This function is for 2x2 matrices only. Please enter a 2x2 matrix."
     ]
    }
   ],
   "source": [
    "#Test exception\n",
    "matrix_eigenvalues(B)"
   ]
  },
  {
   "cell_type": "markdown",
   "metadata": {},
   "source": [
    "----------------------------\n",
    "\n",
    " ### Export to CSV function"
   ]
  },
  {
   "cell_type": "code",
   "execution_count": 70,
   "metadata": {},
   "outputs": [],
   "source": [
    "#Operation 7. Export the matrix to a CSV file\n",
    "\n",
    "import pandas as pd\n",
    "df=pd.DataFrame(A)\n",
    "df.to_csv(\"matrix.csv\", header=False, index=False)"
   ]
  },
  {
   "cell_type": "code",
   "execution_count": null,
   "metadata": {},
   "outputs": [],
   "source": []
  }
 ],
 "metadata": {
  "kernelspec": {
   "display_name": "Python 3",
   "language": "python",
   "name": "python3"
  },
  "language_info": {
   "codemirror_mode": {
    "name": "ipython",
    "version": 3
   },
   "file_extension": ".py",
   "mimetype": "text/x-python",
   "name": "python",
   "nbconvert_exporter": "python",
   "pygments_lexer": "ipython3",
   "version": "3.7.3"
  }
 },
 "nbformat": 4,
 "nbformat_minor": 2
}

