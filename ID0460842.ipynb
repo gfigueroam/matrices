{
 "cells": [
  {
   "cell_type": "markdown",
   "metadata": {},
   "source": [
    "Student Name: John O'Sullivan"
   ]
  },
  {
   "cell_type": "markdown",
   "metadata": {},
   "source": [
    "Student ID: 0460842"
   ]
  },
  {
   "cell_type": "raw",
   "metadata": {},
   "source": [
    "###### Task: Choose two of the following matrix operations and write Python functions to perform the operations.\n",
    "\n",
    "# 1. Provide the size of a matrix as a 2-dimensional tuple\n",
    "# 2. Sum/subtract the matrix with another matrix of suitable size\n",
    "\n",
    "## not selected # 3. Multiply the matrix with a matrix or vector of suitable size ##\n",
    "\n",
    "# Choose two of the following matrix operations and write Python functions to perform the operations.\n",
    "# 1. Calculate the determinant of a 2x2 matrix. For any other matrix this function should raise a suitable exception.\n",
    "# 2. Calculate the inverse of a 2x2 matrix.  For any other matrix this function should raise a suitable exception.\n",
    "\n",
    "## not selected # 3. Calculate the transpose of an mxn matrix. ## \n",
    "\n",
    "# Choose one of the following file operations and write a Python function to perform the operation:\n",
    "# 1. Export the matrix to a CSV file\n",
    "## not selected # 2. Import a matrix from CSV file ##\n",
    "\n",
    "# Please use this notebook to work on Task 1. You should not import any modules."
   ]
  },
  {
   "cell_type": "code",
   "execution_count": 54,
   "metadata": {},
   "outputs": [],
   "source": [
    "import csv\n",
    "\n",
    "class Matrix_Manip:\n",
    "    \"\"\"This class contains functions to size, add, \n",
    "    subtract, calculate 2x2 matrix determinant, \n",
    "    2x2 matrix inverse, and export to CSV\"\"\"\n",
    "\n",
    "    def __init__(self, m):\n",
    "        self.rows = rows\n",
    "        self.columns = columns\n",
    "        self.m = []\n",
    "        for x in range(self.columns):\n",
    "            for y in range(self.rows):\n",
    "                self.m.append([x,y])\n",
    "\n",
    "    def matrix_size(m):\n",
    "        rows = len(m)\n",
    "        columns = len(m[0])\n",
    "        return (rows,columns)\n",
    "    \n",
    "    def matrix_add(m1,m2):\n",
    "        return [[m1[i][j] + m2[i][j] for j in range(len(m1[0]))] for i in range(len(m1))]    \n",
    "\n",
    "    def matrix_sub(m1,m2):\n",
    "        return [[m1[i][j] - m2[i][j] for j in range(len(m1[0]))] for i in range(len(m1))] \n",
    "        \n",
    "    def Matrix(m,i,j):\n",
    "        return [row[:j] + row[j+1:] for row in (m[:i]+m[i+1:])]\n",
    "\n",
    "    def matrix_determinant(m):\n",
    "        assert (len(m) ==2),\"Matrix must be 2x2\"\n",
    "        assert (len(m[0]) ==2),\"Matrix must be 2x2\"\n",
    "        assert (len(m[1]) ==2),\"Matrix must be 2x2\"\n",
    "        return m[0][0]*m[1][1]-m[0][1]*m[1][0]\n",
    "\n",
    "    def matrix_inv(m):\n",
    "        determinant = Matrix_Manip.matrix_determinant(m)\n",
    "        assert (determinant !=0),\"Determinant is 0. No inverse matrix\"\n",
    "        return [[m[1][1]/determinant, -1*m[0][1]/determinant],\n",
    "                [-1*m[1][0]/determinant, m[0][0]/determinant]]\n",
    "    \n",
    "    def write_to_csv(self):\n",
    "        path = r'C:\\Desktop Synch\\UL AI\\etivity_matrix_export.csv'\n",
    "        with open(path, 'w', newline='') as f:\n",
    "            writer = csv.writer(f)\n",
    "            for row in self:\n",
    "                writer.writerow(row)\n",
    "        f.close()\n"
   ]
  },
  {
   "cell_type": "markdown",
   "metadata": {},
   "source": [
    "###### Testing Functions"
   ]
  },
  {
   "cell_type": "code",
   "execution_count": 42,
   "metadata": {},
   "outputs": [
    {
     "name": "stdout",
     "output_type": "stream",
     "text": [
      "The matrix size is: (2, 2)\n",
      "The matrix size is: (3, 4)\n"
     ]
    }
   ],
   "source": [
    "# Matrix size results\n",
    "\n",
    "m1 = (((9,-7),(6,4)))\n",
    "\n",
    "matclass = Matrix_Manip\n",
    "print(\"The matrix size is: {}\".format(matclass.matrix_size(m1)))\n",
    "\n",
    "m1 = (((9,-7,6,6),(6,4,8,0.5),(1,0,0,1)))\n",
    "\n",
    "matclass = Matrix_Manip\n",
    "print(\"The matrix size is: {}\".format(matclass.matrix_size(m1)))"
   ]
  },
  {
   "cell_type": "code",
   "execution_count": 63,
   "metadata": {},
   "outputs": [
    {
     "name": "stdout",
     "output_type": "stream",
     "text": [
      "The matrices added is: [[7, 2], [6, 11]]\n",
      "The matrices subtracted is: [[11, -16], [6, -3]]\n"
     ]
    }
   ],
   "source": [
    "# Matrix add subtract results\n",
    "\n",
    "m1 = [9,-7],[6,4]\n",
    "m2 = [-2,9],[0,7]\n",
    "\n",
    "\n",
    "matclass = Matrix_Manip\n",
    "print(\"The matrices added is: {}\".format(matclass.matrix_add(m1,m2)))\n",
    "print(\"The matrices subtracted is: {}\".format(matclass.matrix_sub(m1,m2)))"
   ]
  },
  {
   "cell_type": "code",
   "execution_count": 60,
   "metadata": {},
   "outputs": [
    {
     "name": "stdout",
     "output_type": "stream",
     "text": [
      "The matrix determinant is:  78\n"
     ]
    }
   ],
   "source": [
    "# Matrix determinant results\n",
    "\n",
    "m1 = (((9,-7),(6,4)))\n",
    "\n",
    "matclass = Matrix_Manip\n",
    "print(\"The matrix determinant is:  {}\".format(matclass.matrix_determinant(m1)))"
   ]
  },
  {
   "cell_type": "code",
   "execution_count": 61,
   "metadata": {},
   "outputs": [
    {
     "name": "stdout",
     "output_type": "stream",
     "text": [
      "The matrix inverse is: [[0.05128205128205128, 0.08974358974358974], [-0.07692307692307693, 0.11538461538461539]]\n"
     ]
    }
   ],
   "source": [
    "# Matrix inverse results\n",
    "\n",
    "m1 = (((9,-7),(6,4)))\n",
    "\n",
    "matclass = Matrix_Manip\n",
    "print(\"The matrix inverse is: {}\".format(matclass.matrix_inv(m1)))\n"
   ]
  },
  {
   "cell_type": "code",
   "execution_count": 64,
   "metadata": {},
   "outputs": [],
   "source": [
    "# Write values to CSV\n",
    "\n",
    "m1 = (((9,-7),(6,4)))\n",
    "\n",
    "matclass = Matrix_Manip\n",
    "matclass.write_to_csv(m1)\n"
   ]
  }
 ],
 "metadata": {
  "kernelspec": {
   "display_name": "Python 3",
   "language": "python",
   "name": "python3"
  },
  "language_info": {
   "codemirror_mode": {
    "name": "ipython",
    "version": 3
   },
   "file_extension": ".py",
   "mimetype": "text/x-python",
   "name": "python",
   "nbconvert_exporter": "python",
   "pygments_lexer": "ipython3",
   "version": "3.7.3"
  }
 },
 "nbformat": 4,
 "nbformat_minor": 2
}
