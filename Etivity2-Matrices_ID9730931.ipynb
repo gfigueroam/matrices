{
 "cells": [
  {
   "cell_type": "markdown",
   "metadata": {},
   "source": [
    "    Student Name:John Stokes"
   ]
  },
  {
   "cell_type": "markdown",
   "metadata": {},
   "source": [
    "Student ID:9730931"
   ]
  },
  {
   "cell_type": "markdown",
   "metadata": {},
   "source": [
    "Please use this notebook to work on Task 1. You should not import any modules."
   ]
  },
  {
   "cell_type": "code",
   "execution_count": 18,
   "metadata": {},
   "outputs": [],
   "source": [
    "def calc_matrix_dim(matrix):\n",
    "    \"\"\"\"\n",
    "    Calculate the dimensions of an input matrix and return the result in a 2d tuple\n",
    "    Input matrix must be a 2d tuple where each location is a row, and the row is a tuple of the contents of that row\n",
    "    Return value = {ylen, xlen}\n",
    "    \"\"\"\n",
    "    # TODO - check that x axes are always same size\n",
    "    \n",
    "    #print(matrix[0])\n",
    "    if type(matrix[0]) is tuple:\n",
    "        #print ('tuple')\n",
    "        if len(matrix[0])==1:\n",
    "            #print ('vector')\n",
    "            # vector\n",
    "            xlen = 1\n",
    "            ylen = len(matrix)\n",
    "        else:\n",
    "            # 2d matrix\n",
    "            #print ('2d matrix')\n",
    "            xlen = len(matrix[0])\n",
    "            ylen = len(matrix)\n",
    "    else:\n",
    "        #print ('1d matrix x axis')\n",
    "        # 1d matrix along x axis\n",
    "        xlen = len(matrix)\n",
    "        ylen = 1\n",
    "        \n",
    "   \n",
    "    sz_tuple = ((ylen), (xlen))\n",
    "    #print(sz_tuple)\n",
    "    return sz_tuple\n",
    "    "
   ]
  },
  {
   "cell_type": "code",
   "execution_count": 19,
   "metadata": {},
   "outputs": [
    {
     "name": "stdout",
     "output_type": "stream",
     "text": [
      "(2, 2)\n",
      "(3, 2)\n",
      "(1, 2)\n",
      "(2, 1)\n"
     ]
    }
   ],
   "source": [
    "x = calc_matrix_dim(((1,2),(3,4)))\n",
    "print(x)\n",
    "\n",
    "x = calc_matrix_dim(((1,2),(3,4),(200,-0.5)))\n",
    "print(x)\n",
    "\n",
    "x = calc_matrix_dim((1,2))\n",
    "print(x)\n",
    "\n",
    "x = calc_matrix_dim(((1,),(2,)))\n",
    "print(x)\n"
   ]
  },
  {
   "cell_type": "code",
   "execution_count": 25,
   "metadata": {},
   "outputs": [],
   "source": [
    "def matrix_add_sub(a, b, op):\n",
    "    \"\"\"\n",
    "    Add or subtract 2 matrices of any size. Each matrix must be a 2 dimensional tuple where the first dimension is rows, \n",
    "    and the 2nd is columns. \n",
    "    The third argument is the operation to perform, add or subtract. This is a string of either \"+\" or \"-\"\n",
    "    The result is passed as the same 2 dimensional tuble of the arguments\n",
    "    \"\"\"\n",
    "    dim_a = calc_matrix_dim(a)\n",
    "    dim_b = calc_matrix_dim(b)\n",
    "    assert dim_a==dim_b,\"Input matrix dimensions do not match\"\n",
    "    \n",
    "    x = []\n",
    "    for row_a, row_b in zip(a, b):\n",
    "        #print (row_a, row_b)\n",
    "        row = []\n",
    "        for col_a, col_b in zip(row_a, row_b):\n",
    "            #print(col_a, col_b)\n",
    "            if op == '+':\n",
    "                row.append(col_a + col_b)\n",
    "            elif op == '-':\n",
    "                row.append(col_a - col_b)\n",
    "            else:\n",
    "                raise Exception(f'op = {op}, op argument must be either + or -')\n",
    "        x.append(row)\n",
    "    \n",
    "    #print(x)\n",
    "    # TODO - convert 2nd dimension to tuple\n",
    "    return (tuple(x))"
   ]
  },
  {
   "cell_type": "code",
   "execution_count": 26,
   "metadata": {},
   "outputs": [
    {
     "name": "stdout",
     "output_type": "stream",
     "text": [
      "([6, 8], [10, 12])\n",
      "([6, 8],)\n",
      "([0, 23], [39.5, 7.9], [50, 99])\n"
     ]
    }
   ],
   "source": [
    "a = ((1,2), (3,4))\n",
    "b = ((5,6), (7,8))\n",
    "x = matrix_add_sub(a, b, '+')\n",
    "print(x)\n",
    "\n",
    "a = ((1,2),)\n",
    "b = ((5,6),)\n",
    "x = matrix_add_sub(a, b, '+')\n",
    "print(x)\n",
    "\n",
    "a = ((9,22),(40,8.5),(100,200))\n",
    "b = ((9,-1),(0.5,0.6),(50,101))\n",
    "x = matrix_add_sub(a, b, '-')\n",
    "print(x)"
   ]
  },
  {
   "cell_type": "code",
   "execution_count": 31,
   "metadata": {},
   "outputs": [],
   "source": [
    "def get_2x2_mtx_det(matrix):\n",
    "    \"\"\"\n",
    "    Returns the determinant of a 2x2 matrix \n",
    "    Input matrix must be a 2 dimensional list or tuple\n",
    "    TODO - is list or tuple supported ?\n",
    "    \"\"\"\n",
    "    assert(calc_matrix_dim(matrix)==(2,2)),\"Input matrix is not size 2x2\"\n",
    "    det = matrix[0][0]*matrix[1][1] - matrix[0][1]*matrix[1][0]\n",
    "    return det"
   ]
  },
  {
   "cell_type": "code",
   "execution_count": 32,
   "metadata": {},
   "outputs": [
    {
     "name": "stdout",
     "output_type": "stream",
     "text": [
      "-2\n",
      "6\n",
      "2.98\n"
     ]
    }
   ],
   "source": [
    "x = get_2x2_mtx_det(((1,2),(3,4)))\n",
    "print (x)\n",
    "\n",
    "x = get_2x2_mtx_det(((3,2),(0,2)))\n",
    "print (x)\n",
    "\n",
    "x = get_2x2_mtx_det(((0.5,2),(0.76,9)))\n",
    "print (x)"
   ]
  },
  {
   "cell_type": "code",
   "execution_count": 33,
   "metadata": {},
   "outputs": [],
   "source": [
    "def get_2x2_mtx_inv(mtx):\n",
    "    \"\"\"\n",
    "    Returns the inverse of a 2x2 matrix \n",
    "    Input matrix must be a 2 dimensional tuple\n",
    "    \"\"\"\n",
    "    assert(calc_matrix_dim(mtx)==(2,2)),\"Input matrix is not size 2x2\"\n",
    "    \n",
    "    det = get_2x2_mtx_det(mtx)\n",
    "    assert(det!=0),\"Determinant is 0, no inverse matrix exists\"\n",
    "    \n",
    "    swap_mtx = ((mtx[1][1],-mtx[0][1]),(-mtx[1][0],mtx[0][0]))\n",
    "    \n",
    "    # TODO - trim decimal places from result\n",
    "    resultr0 = tuple(map(lambda x: x*float(1/det), swap_mtx[0]))\n",
    "    resultr1 = tuple(map(lambda x: x*float(1/det), swap_mtx[1]))\n",
    "    \n",
    "    return (resultr0,resultr1)"
   ]
  },
  {
   "cell_type": "code",
   "execution_count": 34,
   "metadata": {
    "scrolled": true
   },
   "outputs": [
    {
     "name": "stdout",
     "output_type": "stream",
     "text": [
      "((0.0, 1.0), (-1.0, 0.0))\n",
      "((0.6000000000000001, -0.7000000000000001), (-0.2, 0.4))\n"
     ]
    }
   ],
   "source": [
    "x = get_2x2_mtx_inv(((0,-1),(1,0)))\n",
    "print(x)\n",
    "\n",
    "x = get_2x2_mtx_inv(((4,7),(2,6)))\n",
    "print(x)"
   ]
  },
  {
   "cell_type": "code",
   "execution_count": 30,
   "metadata": {},
   "outputs": [],
   "source": [
    "def write_mtx_to_csv(mtx):\n",
    "    import csv\n",
    "    path = r\"C:\\Users\\johns\\Documents\\AI Masters\\CE4021\\Repos\\e-tivity2\\mtx_out.csv\"\n",
    "    file=open(path, 'w', newline='')\n",
    "    writer=csv.writer(file)\n",
    "    for row in mtx:\n",
    "        writer.writerow(row)\n",
    "        #print (row)\n",
    "    file.close()\n",
    "            \n",
    "    \n",
    "    \n",
    "    "
   ]
  },
  {
   "cell_type": "code",
   "execution_count": 28,
   "metadata": {},
   "outputs": [
    {
     "name": "stdout",
     "output_type": "stream",
     "text": [
      "(4, -5)\n",
      "(22.9, 844)\n"
     ]
    }
   ],
   "source": [
    "write_mtx_to_csv(((4,-5),(22.9,844)))"
   ]
  },
  {
   "cell_type": "code",
   "execution_count": 31,
   "metadata": {
    "scrolled": true
   },
   "outputs": [],
   "source": [
    "write_mtx_to_csv(((1,4,22,0,8),(8,16,88,34,-0.5)))"
   ]
  }
 ],
 "metadata": {
  "kernelspec": {
   "display_name": "Python 3",
   "language": "python",
   "name": "python3"
  },
  "language_info": {
   "codemirror_mode": {
    "name": "ipython",
    "version": 3
   },
   "file_extension": ".py",
   "mimetype": "text/x-python",
   "name": "python",
   "nbconvert_exporter": "python",
   "pygments_lexer": "ipython3",
   "version": "3.7.3"
  }
 },
 "nbformat": 4,
 "nbformat_minor": 2
}
