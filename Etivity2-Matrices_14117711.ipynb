{
 "cells": [
  {
   "cell_type": "markdown",
   "metadata": {},
   "source": [
    "Mark O'Neill Etivity 2 14117711\n",
    "1. Provide the size of a matrix as a 2-dimensional tuple\n",
    "2. Sum/subtract the matrix with another matrix of suitable size\n",
    "3. Calculate the determinant of a 2x2 matrix. For any other matrix this function should raise a suitable exception.\n",
    "4. Calculate the inverse of a 2x2 matrix.  For any other matrix this function should raise a suitable exception.\n",
    "5. Export the matrix to a CSV file"
   ]
  },
  {
   "cell_type": "code",
   "execution_count": 11,
   "metadata": {},
   "outputs": [],
   "source": [
    "\n",
    "def FindSize(matrix):\n",
    "    \n",
    "    Rows   = len(matrix)                  #Counts rows \n",
    "    Colums = len(matrix[0])               # counts columns\n",
    "    \n",
    "    return([Rows],[Colums])               #returns size of matrix\n",
    "\n",
    "\n",
    "\n",
    "def addsub(X, Y, sign):                  #Input Variables\n",
    "\n",
    "    if FindSize(X)==FindSize(Y):         #Check to see if they are the same size\n",
    "    \n",
    "    \n",
    "        if sign == 'add':   #Checking operation to be undertaken\n",
    "   \n",
    "            AddMat = [[X[i][j] + Y[i][j]for j in range(len(X[0]))]for i in range(len(X))] #Step through Addition\n",
    "\n",
    "        elif sign == 'sub' : #Checking operation to be undertaken\n",
    "    \n",
    "            AddMat = [[X[i][j] - Y[i][j]for j in range(len(X[0]))]for i in range(len(X))] #Step through subtraction\n",
    "        \n",
    "        else:\n",
    "            raise Exexption('ONLY add or sub can be used for sign') # Checking that sign is a valid input\n",
    "            \n",
    "    else:\n",
    "        raise Exception('CHECK THAT MATRIX SIZES MATCH') #Telling user matrix to add or subtract are not the same size\n",
    "    \n",
    "    return(AddMat)\n",
    "\n",
    "\n",
    "def determinant(matrix):    ##ad-bc is fformula in a 2x2 matrix\n",
    "\n",
    "    determinant = 0\n",
    "    \n",
    "    Rows   = len(matrix)\n",
    "    Colums = len(matrix[0])   \n",
    "    \n",
    "    if Rows == 2 and Colums ==2: # Making sure it's a 2x2 matrix\n",
    "        \n",
    "        determinant= (matrix[0][0]*matrix[1][1])-(matrix[0][1]*matrix[1][0]) #ad-bc\n",
    "        \n",
    "    else:\n",
    "        \n",
    "        raise Exception(\"This will only work with 2 x 2 Matrix\") #if wrong size is put in\n",
    "    return determinant\n",
    "\n",
    "\n",
    "# The inverse is obtained by swapping a and d and multiplying b by -1 and c by -1 \n",
    "# Then Multiplying each term by 1 over the determinant to obtain inverse    \n",
    "#    \n",
    "\n",
    "def inverse(matrix):\n",
    "    \n",
    "    \n",
    "\n",
    "    determinant= (matrix[0][0]*matrix[1][1])-(matrix[0][1]*matrix[1][0])\n",
    "    #return(determinant)\n",
    "    Rows   = len(matrix)\n",
    "    Colums = len(matrix[0])\n",
    "    \n",
    "    if Rows == 2 and Colums ==2:\n",
    "        \n",
    "        a = matrix[1][1] # matrix[0][0] new_matrix[1][1] Swapping d with a\n",
    "        b = -matrix[0][1] #matrix[0][1] multiplying b by -1\n",
    "        c = -matrix[1][0] #new_matrix[1][0] multiplying c by -1\n",
    "        d = matrix[0][0] #new_matrix[1][1] Swapping d with a\n",
    "        inverse=[[a/determinant,b/determinant],[c/determinant,d/determinant]]\n",
    "    else: \n",
    "        raise Exception(\"This will only work with 2 x 2 Matrix\")\n",
    "        \n",
    "    return (inverse)\n",
    "\n",
    "    \n",
    "\n"
   ]
  },
  {
   "cell_type": "code",
   "execution_count": 12,
   "metadata": {},
   "outputs": [
    {
     "data": {
      "text/plain": [
       "([2], [2])"
      ]
     },
     "execution_count": 12,
     "metadata": {},
     "output_type": "execute_result"
    }
   ],
   "source": [
    "Matrix=[[4,5],[4,6]]\n",
    "FindSize(Matrix)"
   ]
  },
  {
   "cell_type": "code",
   "execution_count": 13,
   "metadata": {},
   "outputs": [
    {
     "data": {
      "text/plain": [
       "([3], [2])"
      ]
     },
     "execution_count": 13,
     "metadata": {},
     "output_type": "execute_result"
    }
   ],
   "source": [
    "Matrix=[[4,5],[4,6],[4,6]]\n",
    "FindSize(Matrix)"
   ]
  },
  {
   "cell_type": "code",
   "execution_count": 14,
   "metadata": {},
   "outputs": [
    {
     "data": {
      "text/plain": [
       "[[8, 10], [8, 12]]"
      ]
     },
     "execution_count": 14,
     "metadata": {},
     "output_type": "execute_result"
    }
   ],
   "source": [
    "matrix_1=[[4,5],[4,6]]\n",
    "matrix_2=[[4,5],[4,6]]\n",
    "sign = 'add'\n",
    "\n",
    "addsub(matrix_1,matrix_2,sign)"
   ]
  },
  {
   "cell_type": "code",
   "execution_count": 15,
   "metadata": {},
   "outputs": [
    {
     "data": {
      "text/plain": [
       "[[8, 10], [8, 12], [5, 13]]"
      ]
     },
     "execution_count": 15,
     "metadata": {},
     "output_type": "execute_result"
    }
   ],
   "source": [
    "matrix_1=[[4,5],[4,6],[2,6]]\n",
    "matrix_2=[[4,5],[4,6],[3,7]]\n",
    "sign = 'add'\n",
    "\n",
    "addsub(matrix_1,matrix_2,sign)"
   ]
  },
  {
   "cell_type": "code",
   "execution_count": 16,
   "metadata": {},
   "outputs": [
    {
     "data": {
      "text/plain": [
       "[[0, 0], [0, 0]]"
      ]
     },
     "execution_count": 16,
     "metadata": {},
     "output_type": "execute_result"
    }
   ],
   "source": [
    "matrix_1=[[4,5],[4,6]]\n",
    "matrix_2=[[4,5],[4,6]]\n",
    "sign = 'sub'\n",
    "\n",
    "addsub(matrix_1,matrix_2,sign)"
   ]
  },
  {
   "cell_type": "code",
   "execution_count": 17,
   "metadata": {},
   "outputs": [
    {
     "data": {
      "text/plain": [
       "40"
      ]
     },
     "execution_count": 17,
     "metadata": {},
     "output_type": "execute_result"
    }
   ],
   "source": [
    "matrix =[[12,8],[4,6]]\n",
    "determinant(matrix)"
   ]
  },
  {
   "cell_type": "code",
   "execution_count": 18,
   "metadata": {},
   "outputs": [
    {
     "data": {
      "text/plain": [
       "4"
      ]
     },
     "execution_count": 18,
     "metadata": {},
     "output_type": "execute_result"
    }
   ],
   "source": [
    "matrix =[[2,8],[1,6]]\n",
    "determinant(matrix)"
   ]
  },
  {
   "cell_type": "code",
   "execution_count": 19,
   "metadata": {},
   "outputs": [
    {
     "data": {
      "text/plain": [
       "[[1.5, -1.25], [-1.0, 1.0]]"
      ]
     },
     "execution_count": 19,
     "metadata": {},
     "output_type": "execute_result"
    }
   ],
   "source": [
    "matrix=[[4,5],[4,6]]\n",
    "inverse(matrix)"
   ]
  },
  {
   "cell_type": "markdown",
   "metadata": {},
   "source": [
    "EXECPTIONS"
   ]
  },
  {
   "cell_type": "code",
   "execution_count": 20,
   "metadata": {},
   "outputs": [
    {
     "ename": "Exception",
     "evalue": "This will only work with 2 x 2 Matrix",
     "output_type": "error",
     "traceback": [
      "\u001b[1;31m---------------------------------------------------------------------------\u001b[0m",
      "\u001b[1;31mException\u001b[0m                                 Traceback (most recent call last)",
      "\u001b[1;32m<ipython-input-20-16d145f6c1a8>\u001b[0m in \u001b[0;36m<module>\u001b[1;34m\u001b[0m\n\u001b[0;32m      1\u001b[0m \u001b[0mmatrix\u001b[0m \u001b[1;33m=\u001b[0m\u001b[1;33m[\u001b[0m\u001b[1;33m[\u001b[0m\u001b[1;36m12\u001b[0m\u001b[1;33m,\u001b[0m\u001b[1;36m8\u001b[0m\u001b[1;33m]\u001b[0m\u001b[1;33m,\u001b[0m\u001b[1;33m[\u001b[0m\u001b[1;36m4\u001b[0m\u001b[1;33m,\u001b[0m\u001b[1;36m6\u001b[0m\u001b[1;33m]\u001b[0m\u001b[1;33m,\u001b[0m\u001b[1;33m[\u001b[0m\u001b[1;36m2\u001b[0m\u001b[1;33m,\u001b[0m\u001b[1;36m2\u001b[0m\u001b[1;33m]\u001b[0m\u001b[1;33m]\u001b[0m\u001b[1;33m\u001b[0m\u001b[1;33m\u001b[0m\u001b[0m\n\u001b[1;32m----> 2\u001b[1;33m \u001b[0mdeterminant\u001b[0m\u001b[1;33m(\u001b[0m\u001b[0mmatrix\u001b[0m\u001b[1;33m)\u001b[0m\u001b[1;33m\u001b[0m\u001b[1;33m\u001b[0m\u001b[0m\n\u001b[0m",
      "\u001b[1;32m<ipython-input-11-9714cca0da06>\u001b[0m in \u001b[0;36mdeterminant\u001b[1;34m(matrix)\u001b[0m\n\u001b[0;32m     43\u001b[0m     \u001b[1;32melse\u001b[0m\u001b[1;33m:\u001b[0m\u001b[1;33m\u001b[0m\u001b[1;33m\u001b[0m\u001b[0m\n\u001b[0;32m     44\u001b[0m \u001b[1;33m\u001b[0m\u001b[0m\n\u001b[1;32m---> 45\u001b[1;33m         \u001b[1;32mraise\u001b[0m \u001b[0mException\u001b[0m\u001b[1;33m(\u001b[0m\u001b[1;34m\"This will only work with 2 x 2 Matrix\"\u001b[0m\u001b[1;33m)\u001b[0m \u001b[1;31m#if wrong size is put in\u001b[0m\u001b[1;33m\u001b[0m\u001b[1;33m\u001b[0m\u001b[0m\n\u001b[0m\u001b[0;32m     46\u001b[0m     \u001b[1;32mreturn\u001b[0m \u001b[0mdeterminant\u001b[0m\u001b[1;33m\u001b[0m\u001b[1;33m\u001b[0m\u001b[0m\n\u001b[0;32m     47\u001b[0m \u001b[1;33m\u001b[0m\u001b[0m\n",
      "\u001b[1;31mException\u001b[0m: This will only work with 2 x 2 Matrix"
     ]
    }
   ],
   "source": [
    "matrix =[[12,8],[4,6],[2,2]]\n",
    "determinant(matrix)"
   ]
  },
  {
   "cell_type": "code",
   "execution_count": 21,
   "metadata": {},
   "outputs": [
    {
     "ename": "Exception",
     "evalue": "This will only work with 2 x 2 Matrix",
     "output_type": "error",
     "traceback": [
      "\u001b[1;31m---------------------------------------------------------------------------\u001b[0m",
      "\u001b[1;31mException\u001b[0m                                 Traceback (most recent call last)",
      "\u001b[1;32m<ipython-input-21-3eb18bc6ed30>\u001b[0m in \u001b[0;36m<module>\u001b[1;34m\u001b[0m\n\u001b[0;32m      1\u001b[0m \u001b[0mmatrix\u001b[0m\u001b[1;33m=\u001b[0m\u001b[1;33m[\u001b[0m\u001b[1;33m[\u001b[0m\u001b[1;36m4\u001b[0m\u001b[1;33m,\u001b[0m\u001b[1;36m5\u001b[0m\u001b[1;33m]\u001b[0m\u001b[1;33m,\u001b[0m\u001b[1;33m[\u001b[0m\u001b[1;36m4\u001b[0m\u001b[1;33m,\u001b[0m\u001b[1;36m6\u001b[0m\u001b[1;33m]\u001b[0m\u001b[1;33m,\u001b[0m\u001b[1;33m[\u001b[0m\u001b[1;36m2\u001b[0m\u001b[1;33m,\u001b[0m\u001b[1;36m4\u001b[0m\u001b[1;33m]\u001b[0m\u001b[1;33m]\u001b[0m\u001b[1;33m\u001b[0m\u001b[1;33m\u001b[0m\u001b[0m\n\u001b[1;32m----> 2\u001b[1;33m \u001b[0minverse\u001b[0m\u001b[1;33m(\u001b[0m\u001b[0mmatrix\u001b[0m\u001b[1;33m)\u001b[0m\u001b[1;33m\u001b[0m\u001b[1;33m\u001b[0m\u001b[0m\n\u001b[0m",
      "\u001b[1;32m<ipython-input-11-9714cca0da06>\u001b[0m in \u001b[0;36minverse\u001b[1;34m(matrix)\u001b[0m\n\u001b[0;32m     68\u001b[0m         \u001b[0minverse\u001b[0m\u001b[1;33m=\u001b[0m\u001b[1;33m[\u001b[0m\u001b[1;33m[\u001b[0m\u001b[0ma\u001b[0m\u001b[1;33m/\u001b[0m\u001b[0mdeterminant\u001b[0m\u001b[1;33m,\u001b[0m\u001b[0mb\u001b[0m\u001b[1;33m/\u001b[0m\u001b[0mdeterminant\u001b[0m\u001b[1;33m]\u001b[0m\u001b[1;33m,\u001b[0m\u001b[1;33m[\u001b[0m\u001b[0mc\u001b[0m\u001b[1;33m/\u001b[0m\u001b[0mdeterminant\u001b[0m\u001b[1;33m,\u001b[0m\u001b[0md\u001b[0m\u001b[1;33m/\u001b[0m\u001b[0mdeterminant\u001b[0m\u001b[1;33m]\u001b[0m\u001b[1;33m]\u001b[0m\u001b[1;33m\u001b[0m\u001b[1;33m\u001b[0m\u001b[0m\n\u001b[0;32m     69\u001b[0m     \u001b[1;32melse\u001b[0m\u001b[1;33m:\u001b[0m\u001b[1;33m\u001b[0m\u001b[1;33m\u001b[0m\u001b[0m\n\u001b[1;32m---> 70\u001b[1;33m         \u001b[1;32mraise\u001b[0m \u001b[0mException\u001b[0m\u001b[1;33m(\u001b[0m\u001b[1;34m\"This will only work with 2 x 2 Matrix\"\u001b[0m\u001b[1;33m)\u001b[0m\u001b[1;33m\u001b[0m\u001b[1;33m\u001b[0m\u001b[0m\n\u001b[0m\u001b[0;32m     71\u001b[0m \u001b[1;33m\u001b[0m\u001b[0m\n\u001b[0;32m     72\u001b[0m     \u001b[1;32mreturn\u001b[0m \u001b[1;33m(\u001b[0m\u001b[0minverse\u001b[0m\u001b[1;33m)\u001b[0m\u001b[1;33m\u001b[0m\u001b[1;33m\u001b[0m\u001b[0m\n",
      "\u001b[1;31mException\u001b[0m: This will only work with 2 x 2 Matrix"
     ]
    }
   ],
   "source": [
    "matrix=[[4,5],[4,6],[2,4]]\n",
    "inverse(matrix)"
   ]
  },
  {
   "cell_type": "code",
   "execution_count": 9,
   "metadata": {},
   "outputs": [],
   "source": [
    "import numpy\n",
    "a= [[1,2,3,4],[5,6,7,8]]\n",
    "numpy.savetxt('output.csv',a,delimiter=\",\")"
   ]
  },
  {
   "cell_type": "code",
   "execution_count": null,
   "metadata": {},
   "outputs": [],
   "source": []
  }
 ],
 "metadata": {
  "kernelspec": {
   "display_name": "Python 3",
   "language": "python",
   "name": "python3"
  },
  "language_info": {
   "codemirror_mode": {
    "name": "ipython",
    "version": 3
   },
   "file_extension": ".py",
   "mimetype": "text/x-python",
   "name": "python",
   "nbconvert_exporter": "python",
   "pygments_lexer": "ipython3",
   "version": "3.7.3"
  }
 },
 "nbformat": 4,
 "nbformat_minor": 2
}
