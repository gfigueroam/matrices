{
 "cells": [
  {
   "cell_type": "markdown",
   "metadata": {},
   "source": [
    "### Student Name: Ahmad Rajab"
   ]
  },
  {
   "cell_type": "markdown",
   "metadata": {},
   "source": [
    "### Student ID: 19137362"
   ]
  },
  {
   "cell_type": "markdown",
   "metadata": {},
   "source": [
    "Please use this notebook to work on Task 1. You should not import any modules."
   ]
  },
  {
   "cell_type": "markdown",
   "metadata": {},
   "source": [
    "## Task 1"
   ]
  },
  {
   "cell_type": "markdown",
   "metadata": {},
   "source": [
    "### Part 1a- Functions for Sum, Subtract & Multiply another same size matrix "
   ]
  },
  {
   "cell_type": "code",
   "execution_count": 1,
   "metadata": {},
   "outputs": [],
   "source": [
    "def matrix_sum(matrix1, matrix2):\n",
    "    assert len(matrix1) == len(matrix2)\n",
    "    \n",
    "    final_matrix = [[0,0,0],[0,0,0],[0,0,0]]\n",
    "    \n",
    "    for entry in range(len(matrix1)):\n",
    "        for col in range(len(matrix1[0])):\n",
    "            final_matrix[entry][col] = matrix1[entry][col] + matrix2[entry][col]\n",
    "           \n",
    "    return print(final_matrix)"
   ]
  },
  {
   "cell_type": "code",
   "execution_count": 2,
   "metadata": {},
   "outputs": [],
   "source": [
    "def matrix_sub(matrix1, matrix2):\n",
    "    assert len(matrix1) == len(matrix2)\n",
    "    \n",
    "    final_matrix = [[0,0,0],[0,0,0],[0,0,0]]\n",
    "    \n",
    "    for entry in range(len(matrix1)):\n",
    "        for col in range(len(matrix1[0])):\n",
    "            final_matrix[entry][col] = matrix1[entry][col] - matrix2[entry][col]\n",
    "            \n",
    "    return print(final_matrix)"
   ]
  },
  {
   "cell_type": "markdown",
   "metadata": {},
   "source": [
    "#### Part 1a- Matrix Sum & Subract Calculation Examples"
   ]
  },
  {
   "cell_type": "code",
   "execution_count": 3,
   "metadata": {},
   "outputs": [],
   "source": [
    "mat1 = [[1,2,3],[4 ,5,6],[7 ,8,9]] #Example 1 First Matrix 3x3 \n",
    "  \n",
    "mat2 = [[9,8,7],[6,5,4],[3,2,1]] #Example Second Matrix 3x3"
   ]
  },
  {
   "cell_type": "code",
   "execution_count": 4,
   "metadata": {},
   "outputs": [
    {
     "name": "stdout",
     "output_type": "stream",
     "text": [
      "[[10, 10, 10], [10, 10, 10], [10, 10, 10]]\n"
     ]
    }
   ],
   "source": [
    "#Sum Calculation\n",
    "sum_calc = matrix_sum(mat1,mat2)\n",
    "sum_calc"
   ]
  },
  {
   "cell_type": "code",
   "execution_count": 5,
   "metadata": {},
   "outputs": [
    {
     "name": "stdout",
     "output_type": "stream",
     "text": [
      "[[-8, -6, -4], [-2, 0, 2], [4, 6, 8]]\n"
     ]
    }
   ],
   "source": [
    "#Subtract Calculation\n",
    "sub_calc = matrix_sub(mat1,mat2)\n",
    "sub_calc"
   ]
  },
  {
   "cell_type": "markdown",
   "metadata": {},
   "source": [
    "### Part 1b- Matrix Multiplication (not Dot Multiplication, normal matrix multiplication)"
   ]
  },
  {
   "cell_type": "code",
   "execution_count": 6,
   "metadata": {},
   "outputs": [],
   "source": [
    "### Still working on a function to make this process more robust, below code is hard-coding this calculation\n",
    "\n",
    "mat1 = [[1,2,3],[4 ,5,6],[7 ,8,9]] \n",
    "  \n",
    "mat2 = [[9,8,7],[6,5,4],[3,2,1]]\n",
    "\n",
    "transpose= [list(x) for x in zip(*mat2)]\n"
   ]
  },
  {
   "cell_type": "code",
   "execution_count": 7,
   "metadata": {},
   "outputs": [
    {
     "name": "stdout",
     "output_type": "stream",
     "text": [
      "[[30, 24, 18], [93, 75, 57], [138, 114, 90]]\n"
     ]
    }
   ],
   "source": [
    "### Multiplication- hard wired still working on Function to loop this process any suggestions welcome!\n",
    "\n",
    "final_matrix = [[0,0,0],[0,0,0],[0,0,0]]\n",
    "\"\"\"\n",
    "for i in range(len(mat1)):\n",
    "    #v1= mat1[i] * transpose[0][0] + mat1[i] * transpose[0][1] + mat1[i] * transpose[0][2]\n",
    "    vector1a= mat1[0][0] * transpose[0][0] + mat1[0][1] * transpose[0][1] + mat1[0][2] * transpose[0][2]\n",
    "    vector1b= mat1[0][0] * transpose[1][0] + mat1[0][1] * transpose[1][1] + mat1[0][2] * transpose[1][2]\n",
    "    vector1c= mat1[0][0] * transpose[2][0] + mat1[0][1] * transpose[2][1] + mat1[0][2] * transpose[2][2]\n",
    "    #vector1 = [[vector1a], [vector1b],[vector1c]]\n",
    "\"\"\"\n",
    "vector1a= mat1[0][0] * transpose[0][0] + mat1[0][1] * transpose[0][1] + mat1[0][2] * transpose[0][2]\n",
    "vector1b= mat1[0][0] * transpose[1][0] + mat1[0][1] * transpose[1][1] + mat1[0][2] * transpose[1][2]\n",
    "vector1c= mat1[0][0] * transpose[2][0] + mat1[0][1] * transpose[2][1] + mat1[0][2] * transpose[2][2]\n",
    "\n",
    "vector2a= mat1[1][0] * transpose[0][0] + mat1[1][1] * transpose[0][1] + mat1[2][2] * transpose[0][2]\n",
    "vector2b= mat1[1][0] * transpose[1][0] + mat1[1][1] * transpose[1][1] + mat1[2][2] * transpose[1][2]\n",
    "vector2c= mat1[1][0] * transpose[2][0] + mat1[1][1] * transpose[2][1] + mat1[2][2] * transpose[2][2]\n",
    "\n",
    "vector3a= mat1[2][0] * transpose[0][0] + mat1[2][1] * transpose[0][1] + mat1[2][2] * transpose[0][2]\n",
    "vector3b= mat1[2][0] * transpose[1][0] + mat1[2][1] * transpose[1][1] + mat1[2][2] * transpose[1][2]\n",
    "vector3c= mat1[2][0] * transpose[2][0] + mat1[2][1] * transpose[2][1] + mat1[2][2] * transpose[2][2]\n",
    "\n",
    "vector1 = [vector1a,vector1b,vector1c]\n",
    "vector2 = [vector2a,vector2b,vector2c]\n",
    "vector3 = [vector3a,vector3b,vector3c]\n",
    "\n",
    "multi_calc = [vector1,vector2,vector3]\n",
    "\n",
    "#print([vector1,vector2,vector3])\n",
    "print(multi_calc)    "
   ]
  },
  {
   "cell_type": "markdown",
   "metadata": {},
   "source": [
    "### Part 2a- 2x2 Matrix Determinant & Inverse Calculation Functions"
   ]
  },
  {
   "cell_type": "code",
   "execution_count": 8,
   "metadata": {},
   "outputs": [],
   "source": [
    "def determinant(matrix):\n",
    "    try:\n",
    "        assert len(matrix) == 2 #[[2],[2]]  # len(matrix2)\n",
    "    except:\n",
    "        raise ValueError(\"This isn't a 2x2 matrix, please amend matrix dimension to 2x2.\")\n",
    "                    \n",
    "    det= matrix[0][0]*matrix[1][1] - matrix[0][1]*matrix[1][0]\n",
    "        \n",
    "    return det"
   ]
  },
  {
   "cell_type": "code",
   "execution_count": 9,
   "metadata": {},
   "outputs": [],
   "source": [
    "def inverse(matrix):\n",
    "    try:\n",
    "        assert len(matrix) == 2 #[[2],[2]]  # len(matrix2)\n",
    "    except:\n",
    "        raise ValueError(\"This isn't a 2x2 matrix, please amend matrix dimension to 2x2.\")\n",
    "    \n",
    "   \n",
    "    inverse_mat = [[matrix[1][1], -matrix[0][1], -matrix[1][0], matrix[0][0]]]\n",
    "   \n",
    "    det = matrix[0][0]*matrix[1][1] - matrix[0][1]*matrix[1][0]\n",
    "    \n",
    "    inverse = [[inverse_mat[0][0]/float(det), inverse_mat[0][1]/float(det), inverse_mat[0][2]/float(det), inverse_mat[0][3]/float(det)]]\n",
    "    \n",
    "    return inverse"
   ]
  },
  {
   "cell_type": "markdown",
   "metadata": {},
   "source": [
    "### Part 2 Determinant & Inverse Calculations"
   ]
  },
  {
   "cell_type": "code",
   "execution_count": 10,
   "metadata": {},
   "outputs": [
    {
     "data": {
      "text/plain": [
       "-35"
      ]
     },
     "execution_count": 10,
     "metadata": {},
     "output_type": "execute_result"
    }
   ],
   "source": [
    "#Determinant Calculation\n",
    "matrix = [[1,4],[10,5]] # 2x2 matrix\n",
    "\n",
    "determinant_calc = determinant(matrix)\n",
    "determinant_calc"
   ]
  },
  {
   "cell_type": "code",
   "execution_count": 11,
   "metadata": {},
   "outputs": [
    {
     "data": {
      "text/plain": [
       "[[-0.14285714285714285,\n",
       "  0.11428571428571428,\n",
       "  0.2857142857142857,\n",
       "  -0.02857142857142857]]"
      ]
     },
     "execution_count": 11,
     "metadata": {},
     "output_type": "execute_result"
    }
   ],
   "source": [
    "#Inverse Calculation\n",
    "matrix = [[1,4],[10,5]] # 2x2 matrix\n",
    "\n",
    "inverse_calc = inverse(matrix)\n",
    "inverse_calc"
   ]
  },
  {
   "cell_type": "markdown",
   "metadata": {},
   "source": [
    "### Export Inverse Matrix"
   ]
  },
  {
   "cell_type": "code",
   "execution_count": 12,
   "metadata": {},
   "outputs": [],
   "source": [
    "import pandas as pd\n",
    "inverse_df = pd.DataFrame(inverse_calc)\n",
    "\n",
    "inverse_df.to_csv(\"inverse_matrix.csv\", header=(\"Row 1A\", \"Row 1B\", \"Row 2A\", \"Row 2B\"), index=False)"
   ]
  },
  {
   "cell_type": "code",
   "execution_count": null,
   "metadata": {},
   "outputs": [],
   "source": []
  }
 ],
 "metadata": {
  "kernelspec": {
   "display_name": "Python 3",
   "language": "python",
   "name": "python3"
  },
  "language_info": {
   "codemirror_mode": {
    "name": "ipython",
    "version": 3
   },
   "file_extension": ".py",
   "mimetype": "text/x-python",
   "name": "python",
   "nbconvert_exporter": "python",
   "pygments_lexer": "ipython3",
   "version": "3.7.3"
  }
 },
 "nbformat": 4,
 "nbformat_minor": 2
}
