{
 "cells": [
  {
   "cell_type": "markdown",
   "metadata": {},
   "source": [
    "Student Name:David Moore"
   ]
  },
  {
   "cell_type": "markdown",
   "metadata": {},
   "source": [
    "Student ID:19214316"
   ]
  },
  {
   "cell_type": "markdown",
   "metadata": {},
   "source": [
    "Please use this notebook to work on Task 1. You should not import any modules."
   ]
  },
  {
   "cell_type": "markdown",
   "metadata": {},
   "source": [
    " Task 1 (Complete by Saturday 28/09)\n",
    "Choose two of the following matrix operations and write Python functions to perform the operations.\n",
    "\n",
    "Provide the size of a matrix as a 2-dimensional tuple\n",
    "Sum/subtract the matrix with another matrix of suitable size\n",
    "Multiply the matrix with a matrix or vector of suitable size\n",
    "\n",
    "Choose two of the following matrix operations and write Python functions to perform the operations.\n",
    "\n",
    "Calculate the determinant of a 2x2 matrix. For any other matrix this function should raise a suitable exception.\n",
    "Calculate the inverse of a 2x2 matrix.  For any other matrix this function should raise a suitable exception.\n",
    "Calculate the transpose of an mxn matrix. Calculate the Eigen values of a 2x2 matrix.  For any other matrix this function should raise a suitable exception.\n",
    "Please note the change in item 6 (original text struck through).\n",
    "\n",
    "Choose one of the following file operations and write a Python function to perform the operation:\n",
    "\n",
    "Export the matrix to a CSV file\n",
    "Import a matrix from CSV file"
   ]
  },
  {
   "cell_type": "code",
   "execution_count": 5,
   "metadata": {},
   "outputs": [],
   "source": [
    "## Provide the size of a matrix as a 2-dimensional tuple\n",
    "def MatrixSize(matrix):\n",
    "    \"\"\"\n",
    "    Inputs: Matrix as a List of list\n",
    "    Logic: Get the size of the input Matrix.\n",
    "    OutPuts: 2 dimensional tuple containing size of matrix.\n",
    "    \"\"\"  \n",
    "    Rows   = len(matrix)\n",
    "    Colums = len(matrix[0])\n",
    "    \n",
    "    return([Rows],[Colums])"
   ]
  },
  {
   "cell_type": "code",
   "execution_count": 6,
   "metadata": {},
   "outputs": [],
   "source": [
    "# Create Matrices for testing\n",
    "\n",
    "matrix_1 =[[5,2],[3,4]]\n",
    "matrix_2 =[[1,2],[3,4]]\n",
    "matrix_3 =[[1,2],[3,4]]\n"
   ]
  },
  {
   "cell_type": "code",
   "execution_count": 7,
   "metadata": {},
   "outputs": [
    {
     "data": {
      "text/plain": [
       "([2], [2])"
      ]
     },
     "execution_count": 7,
     "metadata": {},
     "output_type": "execute_result"
    }
   ],
   "source": [
    "# Test MatrixSize function\n",
    "WhatSize = MatrixSize(matrix_1)\n",
    "WhatSize"
   ]
  },
  {
   "cell_type": "code",
   "execution_count": 8,
   "metadata": {},
   "outputs": [],
   "source": [
    "## Sum/subtract the matrix with another matrix of suitable size\n",
    "def MatrixSumSub (matrix_1,matrix_2,operation):\n",
    "    \"\"\"\n",
    "    Inputs: Matrix 1  = list of lists.\n",
    "            Marix 2.  = list of lists.\n",
    "            Operation = operation to be performed + or - as a string.\n",
    "    Logic: Add or subtract 2 2x2 Matrices\n",
    "    OutPuts:Result Matrix , list of lists.\n",
    "    \n",
    "    \"\"\"\n",
    "    \n",
    "    ResultMatrix =[[0,0],[0,0]]\n",
    "    Rows   = len(matrix_1)\n",
    "    Colums = len(matrix_1[0])\n",
    "    \n",
    "    if operation ==\"+\":\n",
    "        \n",
    "        ResultMatrix[0][0] = matrix_1[0][0] + matrix_2[0][0]\n",
    "        ResultMatrix[0][1] = matrix_1[0][1] + matrix_2[0][1] \n",
    "        ResultMatrix[1][0] = matrix_1[1][0] + matrix_2[1][0]\n",
    "        ResultMatrix[1][1] = matrix_1[1][1] + matrix_2[1][1]\n",
    "       \n",
    "    elif operation ==\"-\":\n",
    "        ResultMatrix[0][0] = matrix_1[0][0] - matrix_2[0][0]\n",
    "        ResultMatrix[0][1] = matrix_1[0][1] - matrix_2[0][1] \n",
    "        ResultMatrix[1][0] = matrix_1[1][0] - matrix_2[1][0]\n",
    "        ResultMatrix[1][1] = matrix_1[1][1] - matrix_2[1][1]\n",
    "        \n",
    "    return (ResultMatrix)\n",
    "    \n",
    "# i in range(len(Rows)):    \n",
    "# iterate through columns \n",
    " #   for j in range(len(Colums([0])): \n",
    "  #      result[i][j] = X[i][j] + Y[i][j]\n",
    "          \n",
    "\n",
    "    \n",
    "    \n",
    "\n",
    "    "
   ]
  },
  {
   "cell_type": "code",
   "execution_count": 9,
   "metadata": {},
   "outputs": [
    {
     "data": {
      "text/plain": [
       "[[6, 4], [6, 8]]"
      ]
     },
     "execution_count": 9,
     "metadata": {},
     "output_type": "execute_result"
    }
   ],
   "source": [
    "# Matrix addition test \n",
    "MatrixSumSub (matrix_1,matrix_2, \"+\")"
   ]
  },
  {
   "cell_type": "code",
   "execution_count": 10,
   "metadata": {},
   "outputs": [
    {
     "data": {
      "text/plain": [
       "[[4, 0], [0, 0]]"
      ]
     },
     "execution_count": 10,
     "metadata": {},
     "output_type": "execute_result"
    }
   ],
   "source": [
    "# Matrix subtract test\n",
    "MatrixSumSub (matrix_1,matrix_2, \"-\")"
   ]
  },
  {
   "cell_type": "code",
   "execution_count": 11,
   "metadata": {},
   "outputs": [],
   "source": [
    "#Calculate the determinant of a 2x2 matrix. For any other matrix this function should raise a suitable exception.\n",
    "def determinate(matrix):\n",
    "    \"\"\"\n",
    "    Inputs: Matrix as List of list.  \n",
    "    Logic:  Find the determinate of 2x2 matrix.\n",
    "    Output: Determinate as a float.\n",
    "    Exception: if not 2x2 matarix as input.\n",
    "    \"\"\"\n",
    "    OutDeterminate = 0\n",
    "    \n",
    "    Rows   = len(matrix)\n",
    "    Colums = len(matrix[0])\n",
    "    \n",
    "    if Rows == 2 and Colums ==2:\n",
    "        OutDeterminate = (matrix[0][0]*matrix[1][1])-(matrix[0][1]*matrix[1][0])\n",
    "        \n",
    "    else:\n",
    "        raise Exception('Matrix passed is of the wrong size')\n",
    "        \n",
    "    return OutDeterminate\n",
    "     \n",
    "    "
   ]
  },
  {
   "cell_type": "code",
   "execution_count": 12,
   "metadata": {},
   "outputs": [
    {
     "data": {
      "text/plain": [
       "-14"
      ]
     },
     "execution_count": 12,
     "metadata": {},
     "output_type": "execute_result"
    }
   ],
   "source": [
    "# determinant of a 2x2 matrix test1\n",
    "matrix_3 =[[3,8],[4,6]]\n",
    "determinate(matrix_3)"
   ]
  },
  {
   "cell_type": "code",
   "execution_count": 13,
   "metadata": {},
   "outputs": [
    {
     "ename": "Exception",
     "evalue": "Matrix passed is of the wrong size",
     "output_type": "error",
     "traceback": [
      "\u001b[1;31m---------------------------------------------------------------------------\u001b[0m",
      "\u001b[1;31mException\u001b[0m                                 Traceback (most recent call last)",
      "\u001b[1;32m<ipython-input-13-80ef5f2ede35>\u001b[0m in \u001b[0;36m<module>\u001b[1;34m\u001b[0m\n\u001b[0;32m      1\u001b[0m \u001b[1;31m# determinant of a 2x2 matrix test2 Exception\u001b[0m\u001b[1;33m\u001b[0m\u001b[1;33m\u001b[0m\u001b[1;33m\u001b[0m\u001b[0m\n\u001b[0;32m      2\u001b[0m \u001b[0mmatrix_4\u001b[0m \u001b[1;33m=\u001b[0m\u001b[1;33m[\u001b[0m\u001b[1;33m[\u001b[0m\u001b[1;36m3\u001b[0m\u001b[1;33m,\u001b[0m\u001b[1;36m8\u001b[0m\u001b[1;33m]\u001b[0m\u001b[1;33m,\u001b[0m\u001b[1;33m[\u001b[0m\u001b[1;36m4\u001b[0m\u001b[1;33m,\u001b[0m\u001b[1;36m6\u001b[0m\u001b[1;33m]\u001b[0m\u001b[1;33m,\u001b[0m\u001b[1;33m[\u001b[0m\u001b[1;36m9\u001b[0m\u001b[1;33m,\u001b[0m\u001b[1;36m3\u001b[0m\u001b[1;33m,\u001b[0m\u001b[1;36m5\u001b[0m\u001b[1;33m]\u001b[0m\u001b[1;33m]\u001b[0m\u001b[1;33m\u001b[0m\u001b[1;33m\u001b[0m\u001b[0m\n\u001b[1;32m----> 3\u001b[1;33m \u001b[0mdeterminate\u001b[0m\u001b[1;33m(\u001b[0m\u001b[0mmatrix_4\u001b[0m\u001b[1;33m)\u001b[0m\u001b[1;33m\u001b[0m\u001b[1;33m\u001b[0m\u001b[0m\n\u001b[0m",
      "\u001b[1;32m<ipython-input-11-8d8987487db2>\u001b[0m in \u001b[0;36mdeterminate\u001b[1;34m(matrix)\u001b[0m\n\u001b[0;32m     16\u001b[0m \u001b[1;33m\u001b[0m\u001b[0m\n\u001b[0;32m     17\u001b[0m     \u001b[1;32melse\u001b[0m\u001b[1;33m:\u001b[0m\u001b[1;33m\u001b[0m\u001b[1;33m\u001b[0m\u001b[0m\n\u001b[1;32m---> 18\u001b[1;33m         \u001b[1;32mraise\u001b[0m \u001b[0mException\u001b[0m\u001b[1;33m(\u001b[0m\u001b[1;34m'Matrix passed is of the wrong size'\u001b[0m\u001b[1;33m)\u001b[0m\u001b[1;33m\u001b[0m\u001b[1;33m\u001b[0m\u001b[0m\n\u001b[0m\u001b[0;32m     19\u001b[0m \u001b[1;33m\u001b[0m\u001b[0m\n\u001b[0;32m     20\u001b[0m     \u001b[1;32mreturn\u001b[0m \u001b[0mOutDeterminate\u001b[0m\u001b[1;33m\u001b[0m\u001b[1;33m\u001b[0m\u001b[0m\n",
      "\u001b[1;31mException\u001b[0m: Matrix passed is of the wrong size"
     ]
    }
   ],
   "source": [
    "# determinant of a 2x2 matrix test2 Exception\n",
    "matrix_4 =[[3,8],[4,6],[9,3,5]]\n",
    "determinate(matrix_4)"
   ]
  },
  {
   "cell_type": "code",
   "execution_count": 14,
   "metadata": {},
   "outputs": [],
   "source": [
    "def InverseMatrix (matrix):\n",
    "    \"\"\"\n",
    "    Inputs: 2x2 matrix as list of lists.\n",
    "    Logic: Determin the inverse of matrix.\n",
    "    Output: inverse matrix of the iput as a list of lists.\n",
    "    \n",
    "    \"\"\"\n",
    "    \n",
    "    ResultMatrix =[[0,0],[0,0]]\n",
    "    \n",
    "    determin=determinate(matrix)\n",
    "    \n",
    "    Rows   = len(matrix)\n",
    "    Colums = len(matrix[0])\n",
    "    \n",
    "    if Rows == 2 and Colums ==2:\n",
    "        ResultMatrix[0][0] =  matrix[1][1]/determin\n",
    "        ResultMatrix[0][1] = (matrix[0][1]/determin)*-1 \n",
    "        ResultMatrix[1][0] = (matrix[1][0]/determin)*-1\n",
    "        ResultMatrix[1][1] =  matrix[0][0]/determin\n",
    "        \n",
    "    else:\n",
    "        raise Exception('Matrix passed is of the wrong size')\n",
    "        \n",
    "    \n",
    "    return ResultMatrix"
   ]
  },
  {
   "cell_type": "code",
   "execution_count": 15,
   "metadata": {},
   "outputs": [
    {
     "data": {
      "text/plain": [
       "[[0.6, -0.2], [-0.7, 0.4]]"
      ]
     },
     "execution_count": 15,
     "metadata": {},
     "output_type": "execute_result"
    }
   ],
   "source": [
    "#Test Inverse of a matrix\n",
    "matrix_5 =[[4,2],[7,6]]\n",
    "InverseMatrix(matrix_5)"
   ]
  },
  {
   "cell_type": "code",
   "execution_count": 348,
   "metadata": {},
   "outputs": [
    {
     "ename": "Exception",
     "evalue": "Matrix passed is of the wrong size",
     "output_type": "error",
     "traceback": [
      "\u001b[1;31m---------------------------------------------------------------------------\u001b[0m",
      "\u001b[1;31mException\u001b[0m                                 Traceback (most recent call last)",
      "\u001b[1;32m<ipython-input-348-69c7cd58fe47>\u001b[0m in \u001b[0;36m<module>\u001b[1;34m\u001b[0m\n\u001b[0;32m      1\u001b[0m \u001b[1;31m#Test Inverse of a matrix 2, Exception\u001b[0m\u001b[1;33m\u001b[0m\u001b[1;33m\u001b[0m\u001b[1;33m\u001b[0m\u001b[0m\n\u001b[0;32m      2\u001b[0m \u001b[0mmatrix_6\u001b[0m \u001b[1;33m=\u001b[0m\u001b[1;33m[\u001b[0m\u001b[1;33m[\u001b[0m\u001b[1;36m4\u001b[0m\u001b[1;33m,\u001b[0m\u001b[1;36m2\u001b[0m\u001b[1;33m]\u001b[0m\u001b[1;33m,\u001b[0m\u001b[1;33m[\u001b[0m\u001b[1;36m7\u001b[0m\u001b[1;33m,\u001b[0m\u001b[1;36m6\u001b[0m\u001b[1;33m]\u001b[0m\u001b[1;33m,\u001b[0m\u001b[1;33m[\u001b[0m\u001b[1;36m8\u001b[0m\u001b[1;33m,\u001b[0m\u001b[1;36m3\u001b[0m\u001b[1;33m,\u001b[0m\u001b[1;36m5\u001b[0m\u001b[1;33m]\u001b[0m\u001b[1;33m]\u001b[0m\u001b[1;33m\u001b[0m\u001b[1;33m\u001b[0m\u001b[0m\n\u001b[1;32m----> 3\u001b[1;33m \u001b[0mInverseMatrix\u001b[0m\u001b[1;33m(\u001b[0m\u001b[0mmatrix_6\u001b[0m\u001b[1;33m)\u001b[0m\u001b[1;33m\u001b[0m\u001b[1;33m\u001b[0m\u001b[0m\n\u001b[0m",
      "\u001b[1;32m<ipython-input-338-e55b222e298a>\u001b[0m in \u001b[0;36mInverseMatrix\u001b[1;34m(matrix)\u001b[0m\n\u001b[0;32m      3\u001b[0m     \u001b[0mResultMatrix\u001b[0m \u001b[1;33m=\u001b[0m\u001b[1;33m[\u001b[0m\u001b[1;33m[\u001b[0m\u001b[1;36m0\u001b[0m\u001b[1;33m,\u001b[0m\u001b[1;36m0\u001b[0m\u001b[1;33m]\u001b[0m\u001b[1;33m,\u001b[0m\u001b[1;33m[\u001b[0m\u001b[1;36m0\u001b[0m\u001b[1;33m,\u001b[0m\u001b[1;36m0\u001b[0m\u001b[1;33m]\u001b[0m\u001b[1;33m]\u001b[0m\u001b[1;33m\u001b[0m\u001b[1;33m\u001b[0m\u001b[0m\n\u001b[0;32m      4\u001b[0m \u001b[1;33m\u001b[0m\u001b[0m\n\u001b[1;32m----> 5\u001b[1;33m     \u001b[0mdetermin\u001b[0m\u001b[1;33m=\u001b[0m\u001b[0mdeterminate\u001b[0m\u001b[1;33m(\u001b[0m\u001b[0mmatrix\u001b[0m\u001b[1;33m)\u001b[0m\u001b[1;33m\u001b[0m\u001b[1;33m\u001b[0m\u001b[0m\n\u001b[0m\u001b[0;32m      6\u001b[0m \u001b[1;33m\u001b[0m\u001b[0m\n\u001b[0;32m      7\u001b[0m     \u001b[0mRows\u001b[0m   \u001b[1;33m=\u001b[0m \u001b[0mlen\u001b[0m\u001b[1;33m(\u001b[0m\u001b[0mmatrix\u001b[0m\u001b[1;33m)\u001b[0m\u001b[1;33m\u001b[0m\u001b[1;33m\u001b[0m\u001b[0m\n",
      "\u001b[1;32m<ipython-input-314-f6085a9beeeb>\u001b[0m in \u001b[0;36mdeterminate\u001b[1;34m(matrix)\u001b[0m\n\u001b[0;32m     11\u001b[0m \u001b[1;33m\u001b[0m\u001b[0m\n\u001b[0;32m     12\u001b[0m     \u001b[1;32melse\u001b[0m\u001b[1;33m:\u001b[0m\u001b[1;33m\u001b[0m\u001b[1;33m\u001b[0m\u001b[0m\n\u001b[1;32m---> 13\u001b[1;33m         \u001b[1;32mraise\u001b[0m \u001b[0mException\u001b[0m\u001b[1;33m(\u001b[0m\u001b[1;34m'Matrix passed is of the wrong size'\u001b[0m\u001b[1;33m)\u001b[0m\u001b[1;33m\u001b[0m\u001b[1;33m\u001b[0m\u001b[0m\n\u001b[0m\u001b[0;32m     14\u001b[0m \u001b[1;33m\u001b[0m\u001b[0m\n\u001b[0;32m     15\u001b[0m     \u001b[1;32mreturn\u001b[0m \u001b[0mOutDeterminate\u001b[0m\u001b[1;33m\u001b[0m\u001b[1;33m\u001b[0m\u001b[0m\n",
      "\u001b[1;31mException\u001b[0m: Matrix passed is of the wrong size"
     ]
    }
   ],
   "source": [
    "#Test Inverse of a matrix 2, Exception\n",
    "matrix_6 =[[4,2],[7,6],[8,3,5]]\n",
    "InverseMatrix(matrix_6)"
   ]
  },
  {
   "cell_type": "code",
   "execution_count": 17,
   "metadata": {},
   "outputs": [],
   "source": [
    "#Export the matrix to a CSV file\n",
    "import numpy\n",
    "numpy.savetxt(\"Matrix.csv\", matrix_5, delimiter=\",\")"
   ]
  },
  {
   "cell_type": "code",
   "execution_count": null,
   "metadata": {},
   "outputs": [],
   "source": []
  }
 ],
 "metadata": {
  "kernelspec": {
   "display_name": "Python 3",
   "language": "python",
   "name": "python3"
  },
  "language_info": {
   "codemirror_mode": {
    "name": "ipython",
    "version": 3
   },
   "file_extension": ".py",
   "mimetype": "text/x-python",
   "name": "python",
   "nbconvert_exporter": "python",
   "pygments_lexer": "ipython3",
   "version": "3.7.3"
  }
 },
 "nbformat": 4,
 "nbformat_minor": 2
}
