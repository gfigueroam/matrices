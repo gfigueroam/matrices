{
 "cells": [
  {
   "cell_type": "markdown",
   "metadata": {},
   "source": [
    "Student Name: Gerard Boland"
   ]
  },
  {
   "cell_type": "markdown",
   "metadata": {},
   "source": [
    "Student ID: 19196067"
   ]
  },
  {
   "cell_type": "markdown",
   "metadata": {},
   "source": [
    "****E-tivity 2 - Task 1****\n",
    "\n",
    "Q1. Choose two of the following matrix operations and write Python functions to perform the operations.\n",
    "\n",
    "1. Provide the size of a matrix as a 2-dimensional tuple - **DONE**\n",
    "2. Sum/subtract the matrix with another matrix of suitable size - **DONE**\n",
    "3. Multiply the matrix with a matrix or vector of suitable size - **Also attempted**\n",
    "\n",
    "Q2. Choose two of the following matrix operations and write Python functions to perform the operations.\n",
    "\n",
    "4. Calculate the determinant of a 2x2 matrix. For any other matrix this function should raise a suitable exception. - **DONE**\n",
    "5. Calculate the inverse of a 2x2 matrix.  For any other matrix this function should raise a suitable exception. - **DONE**\n",
    "6. Calculate the transpose of an mxn matrix. (formerly \"Calculate the Eigen values of a 2x2 matrix.\") For any other matrix this function should raise a suitable exception. - **I've also attempted all of these, just for my own interest**\n",
    "\n",
    "Choose one of the following file operations and write a Python function to perform the operation:\n",
    "\n",
    "7. Export the matrix to a CSV file - **DONE**\n",
    "8. Import a matrix from CSV file - **DONE - so that I could test the above**\n",
    "\n",
    "You may import one suitable library to help you with the CSV import/export.\n",
    "\n",
    "\n",
    "\n",
    "**Code is a little repetitive, and I've probably gone overboard on checks :)**"
   ]
  },
  {
   "cell_type": "code",
   "execution_count": 15,
   "metadata": {},
   "outputs": [],
   "source": [
    "import csv\n",
    "\n",
    "class MatrixOps:\n",
    "\n",
    "    @staticmethod    \n",
    "    def __row_size(matrix) -> int:\n",
    "        return len(matrix)\n",
    "\n",
    "    @staticmethod\n",
    "    def __column_size(matrix) -> int:\n",
    "        return len(matrix[0])\n",
    "\n",
    "    @staticmethod\n",
    "    def __verify_matrix(matrix):\n",
    "        # Matrix defined as list of lists (rows). Reject empty list.\n",
    "        if not isinstance(matrix, list):\n",
    "            raise ValueError(\"Matrix needs to be specified as a list of lists\")\n",
    "\n",
    "        if len(matrix) == 0:\n",
    "            raise ValueError(\"Empty (0x0) Matrix not accepted\")\n",
    "\n",
    "        # Fail if not containing a list of lists\n",
    "        # Assert the rows are not all equal sizes (or all empty).\n",
    "        for row in matrix:\n",
    "            if not isinstance(row, list):\n",
    "                raise ValueError(\"Matrix needs to be specified as a list of lists\")\n",
    "            if len(row) == 0:\n",
    "                raise ValueError(\"Matrix must have at least one entry on each row\")\n",
    "            if len(row) != len(matrix[0]):\n",
    "                raise ValueError(\"Matrix needs to be specified as a list of lists of equal size\")\n",
    "\n",
    "            # Assert if there's any non-numeric entries.\n",
    "            for entry in row:\n",
    "                if not isinstance(entry, (int, float)):\n",
    "                    raise ValueError(\"Matrix can only contain Real numbers (i.e. int or float)\")\n",
    "\n",
    "    @staticmethod\n",
    "    def __verify_vector(vector):\n",
    "        # Vector defined as list of numbers. Reject empty list.\n",
    "        if not isinstance(vector, list):\n",
    "            raise ValueError(\"Vector needs to be specified as a list\")\n",
    "\n",
    "        if len(vector) == 0:\n",
    "            raise ValueError(\"Empty Vector not accepted\")\n",
    "\n",
    "        for entry in vector:\n",
    "            if not isinstance(entry, (int, float)):\n",
    "                raise ValueError(\"Vector can only contain Real numbers (i.e. int or float)\")\n",
    "\n",
    "    @staticmethod\n",
    "    def __verify_scalar(scalar):\n",
    "        if not isinstance(scalar, (int, float)):\n",
    "              raise ValueError(\"Argument needs be be a number: \", scalar)\n",
    "\n",
    "    def __size(self, matrix):\n",
    "        return (self.__row_size(matrix), self.__column_size(matrix))\n",
    "\n",
    "    def multiply_matrix_by_scalar(self, matrix, scalar:float):\n",
    "        self.__verify_matrix(matrix)\n",
    "        self.__verify_scalar(scalar)\n",
    "\n",
    "        rows = self.__row_size(matrix)\n",
    "        cols = self.__column_size(matrix)\n",
    "        \n",
    "        result = matrix # handy way to preallocate\n",
    "        for i in range(0, rows):\n",
    "            for j in range(0, cols):\n",
    "                result[i][j] = scalar * matrix[i][j]\n",
    "\n",
    "        return result\n",
    "\n",
    "    def multiply_matrix_by_matrix(self, matrix_a, matrix_b):\n",
    "        self.__verify_matrix(matrix_a)\n",
    "        self.__verify_matrix(matrix_b)\n",
    "\n",
    "        # A * B\n",
    "        if self.__column_size(matrix_a) != self.__row_size(matrix_b):\n",
    "             raise ValueError(\"Cannot multiply matrices with incompatible sizes:\", self.size(matrix_a), self.size(matrix_b))\n",
    "\n",
    "        rows = self.__row_size(matrix_a)\n",
    "        cols = self.__column_size(matrix_b)\n",
    "        crossover = self.__column_size(matrix_a)\n",
    "        # Output matrix will have size (rows, cols)\n",
    "\n",
    "        # Preallocating the result matrix makes mult algorithm cleaner on the eye in python\n",
    "        result = [[ 0 for j in range(cols)  ] for i in range(rows)]\n",
    "\n",
    "        for i in range(0, rows):\n",
    "            for j in range(0, cols):\n",
    "                for k in range(0, crossover):\n",
    "                    result[i][j] += matrix_a[i][k] * matrix_b[k][j] \n",
    "        return result\n",
    "\n",
    "    def multiply_vector_by_matrix(self, matrix, vector):\n",
    "        self.__verify_matrix(matrix)\n",
    "        self.__verify_vector(vector)\n",
    "\n",
    "        # A * b\n",
    "        if self.__column_size(matrix) != len(vector):\n",
    "             raise ValueError(\"Cannot multiply matrix of size\", self.size(matrix_a), \"with vector of length\", len(vector))\n",
    "\n",
    "        result = []\n",
    "        for row in matrix:\n",
    "            result.append( sum([x * y for x, y in zip(row, vector)]))\n",
    "\n",
    "        return result\n",
    "\n",
    "    def transpose(self, matrix):\n",
    "        self.__verify_matrix(matrix)\n",
    "\n",
    "        # Result matrix will flip the row & columns\n",
    "        rows = self.__column_size(matrix)\n",
    "        cols = self.__row_size(matrix)\n",
    "\n",
    "        # Preallocating the result matrix makes mult algorithm cleaner on the eye in python\n",
    "        result = [[ None for j in range(cols)  ] for i in range(rows)]\n",
    "        for i in range(0, rows):\n",
    "            for j in range(0, cols):\n",
    "                result[i][j] = matrix[j][i]\n",
    "\n",
    "        return result\n",
    "\n",
    "    # Return size of matrix as (row, column) tuple\n",
    "    def size(self, matrix):\n",
    "        self.__verify_matrix(matrix)\n",
    "        return self.__size(matrix)\n",
    "\n",
    "    def add(self, matrix_a, matrix_b):\n",
    "        # A+B\n",
    "        self.__verify_matrix(matrix_a)\n",
    "        self.__verify_matrix(matrix_b)\n",
    "        if self.__size(matrix_a) != self.__size(matrix_b):\n",
    "            raise ValueError(\"Unable to add two matrices of different size\")\n",
    "\n",
    "        result = []\n",
    "        for rows in zip(matrix_a, matrix_b):\n",
    "            result.append([ sum(x) for x in zip(rows[0], rows[1]) ])\n",
    "\n",
    "        return result\n",
    "\n",
    "    def subtract(self, matrix_a, matrix_b):\n",
    "        # A-B\n",
    "        self.__verify_matrix(matrix_b)\n",
    "        minus_matrix_b = self.multiply_matrix_by_scalar(matrix_b, -1)\n",
    "        return self.add(matrix_a, minus_matrix_b)\n",
    "\n",
    "    def determinant(self, matrix):\n",
    "        # Determinant of a 2x2 matrix A=[[a,b],[c,d]] is ad-bc\n",
    "        self.__verify_matrix(matrix)\n",
    "        if self.__size(matrix) != (2, 2):\n",
    "            raise ValueError(\"Sorry, for now this method only supports 2x2 matrices!\")\n",
    "\n",
    "        return matrix[0][0] * matrix[1][1] - (matrix[0][1] * matrix[1][0])\n",
    "\n",
    "    def trace(self, matrix) -> float:\n",
    "        # Trace of a matrix is the sum of the diagonal entries\n",
    "        self.__verify_matrix(matrix)\n",
    "        if self.__row_size(matrix) != self.__column_size(matrix):\n",
    "            raise ValueError(\"Trace operation only defined for square matrices\")\n",
    "\n",
    "        result = 0\n",
    "        for i in range(0, self.__row_size(matrix)):\n",
    "            result += matrix[i][i]\n",
    "        return result\n",
    "\n",
    "    def eigenvalues(self, matrix):\n",
    "        det = self.determinant(matrix)\n",
    "        half_trace = self.trace(matrix) / 2\n",
    "\n",
    "        d = half_trace**2 - det # if positive, 2 roots, if zero, 1 root, else no roots\n",
    "        if d < 0:\n",
    "            return None\n",
    "        elif d == 0:\n",
    "            return half_trace\n",
    "        else:\n",
    "            return (\n",
    "                half_trace + ( half_trace**2 - det )**0.5,\n",
    "                half_trace - ( half_trace**2 - det )**0.5\n",
    "            )\n",
    "\n",
    "    def inverse(self, matrix):\n",
    "        det = self.determinant(matrix) # does 2x2 check too!\n",
    "        if det == 0:\n",
    "            raise ZeroDivisionError(\"Matrix cannot be inverted, has zero determinant\")\n",
    "\n",
    "        inverse = [[matrix[1][1], -matrix[0][1]],\n",
    "                   [-matrix[1][0], matrix[0][0]] ]\n",
    "\n",
    "        return self.multiply_matrix_by_scalar(inverse, 1/det);\n",
    "\n",
    "    def import_matrix_from_csv(self, file_path:str):\n",
    "        matrix = []\n",
    "        # The csv module us quite primitive, it often reads in numbers as strings. Using\n",
    "        # csv.QUOTE_NONNUMERIC encourages it to consider values without quotes as numbers.\n",
    "        with open(file_path, 'r') as file_handle:\n",
    "            reader = csv.reader(file_handle, quoting=csv.QUOTE_NONNUMERIC)\n",
    "            for row in reader:\n",
    "                matrix.append(row)\n",
    "        self.__verify_matrix(matrix)\n",
    "        return matrix\n",
    "            \n",
    "    def export_matrix_to_csv(self, matrix, file_path:str):\n",
    "        self.__verify_matrix(matrix)\n",
    "        with open(file_path, 'w', newline='') as file_handle:  # ref: https://docs.python.org/3/library/csv.html#id3\n",
    "            writer = csv.writer(file_handle)\n",
    "            for row in matrix:\n",
    "                writer.writerow(row)\n",
    "\n",
    "    def print(self, matrix):\n",
    "        # prints a matrix slightly prettier\n",
    "        self.__verify_matrix(matrix)\n",
    "        print('[')\n",
    "        for row in matrix:\n",
    "            print(' ', row)\n",
    "        print(']')"
   ]
  },
  {
   "cell_type": "code",
   "execution_count": 16,
   "metadata": {},
   "outputs": [],
   "source": [
    "mat = MatrixOps()"
   ]
  },
  {
   "cell_type": "code",
   "execution_count": 17,
   "metadata": {},
   "outputs": [],
   "source": [
    "# A few matrices to work on\n",
    "m1 = [ [3, 6, 9], [8, 4, 2]]\n",
    "m2 = [ [ 1, 2, 3], [4, 5, 6], [7, 8, 9]]\n",
    "m3 = [ [ 0, 1, -1], [1, 0, -1], [-1, 1, 0]]"
   ]
  },
  {
   "cell_type": "code",
   "execution_count": 18,
   "metadata": {},
   "outputs": [
    {
     "name": "stdout",
     "output_type": "stream",
     "text": [
      "(2, 3)\n",
      "(3, 3)\n"
     ]
    }
   ],
   "source": [
    "print(mat.size(m1))\n",
    "print(mat.size(m2))"
   ]
  },
  {
   "cell_type": "code",
   "execution_count": 19,
   "metadata": {},
   "outputs": [
    {
     "name": "stdout",
     "output_type": "stream",
     "text": [
      "[\n",
      "  [1, 3, 2]\n",
      "  [5, 5, 5]\n",
      "  [6, 9, 9]\n",
      "]\n",
      "[\n",
      "  [1, 1, 4]\n",
      "  [3, 5, 7]\n",
      "  [8, 7, 9]\n",
      "]\n"
     ]
    }
   ],
   "source": [
    "mat.print(mat.add(m2, m3))\n",
    "mat.print(mat.subtract(m2, m3))"
   ]
  },
  {
   "cell_type": "code",
   "execution_count": 20,
   "metadata": {},
   "outputs": [
    {
     "name": "stdout",
     "output_type": "stream",
     "text": [
      "[\n",
      "  [3, 8]\n",
      "  [6, 4]\n",
      "  [9, 2]\n",
      "]\n"
     ]
    }
   ],
   "source": [
    "mat.print(mat.transpose(m1))"
   ]
  },
  {
   "cell_type": "code",
   "execution_count": 26,
   "metadata": {},
   "outputs": [
    {
     "name": "stdout",
     "output_type": "stream",
     "text": [
      "Determinant -1\n",
      "Inverse:\n",
      "[\n",
      "  [3.0, 2.0]\n",
      "  [-7.0, -5.0]\n",
      "]\n",
      "Eigenvalues (2.414213562373095, -0.41421356237309515)\n"
     ]
    }
   ],
   "source": [
    "m4 = [[5, 2],[-7, -3]]\n",
    "\n",
    "print(\"Determinant\", mat.determinant(m4))\n",
    "print(\"Inverse:\")\n",
    "mat.print(mat.inverse(m4))\n",
    "\n",
    "print(\"Eigenvalues\", mat.eigenvalues(m4))"
   ]
  },
  {
   "cell_type": "code",
   "execution_count": 27,
   "metadata": {},
   "outputs": [
    {
     "name": "stdout",
     "output_type": "stream",
     "text": [
      "[\n",
      "  [0.2222, 131231341.42342, 4.523525252525252e+20]\n",
      "  [4.2, 5e-06, 6.2]\n",
      "  [7.0, 8.0, 9.0]\n",
      "]\n"
     ]
    }
   ],
   "source": [
    "m6 = [ [ 0.2222, 131231341.42342, 452352525252525245245.23423423424234234], [4.2, 0.000005, 6.2], [7, 8, 9]]\n",
    "mat.export_matrix_to_csv(m6, \"m6.txt\")\n",
    "\n",
    "m6_copy = mat.import_matrix_from_csv(\"m6.txt\")\n",
    "mat.print(m6_copy)"
   ]
  },
  {
   "cell_type": "code",
   "execution_count": 30,
   "metadata": {},
   "outputs": [
    {
     "name": "stdout",
     "output_type": "stream",
     "text": [
      "Multiplying matrix by identity matrix should leave it unchanged\n",
      "[\n",
      "  [0, -1, 1]\n",
      "  [-1, 0, 1]\n",
      "  [1, -1, 0]\n",
      "]\n",
      "Test multiplication of 2 matrices\n",
      "[\n",
      "  [1, -4, 3]\n",
      "  [1, -10, 9]\n",
      "  [1, -16, 15]\n",
      "]\n",
      "Applying Matrix to a vector\n",
      "[6, 15, 24]\n"
     ]
    }
   ],
   "source": [
    "identity = [[1, 0, 0], [0, 1, 0], [0, 0, 1]]\n",
    "print(\"Multiplying matrix by identity matrix should leave it unchanged\")\n",
    "m9 = mat.multiply_matrix_by_matrix(m3, identity)\n",
    "mat.print(m9)\n",
    "print(\"Test multiplication of 2 matrices\")\n",
    "m9 = mat.multiply_matrix_by_matrix(m2, m3)\n",
    "mat.print(m9)\n",
    "\n",
    "print(\"Applying Matrix to a vector\")\n",
    "v1 = [1 ,1, 1]\n",
    "print(mat.multiply_vector_by_matrix(m2, v1))"
   ]
  },
  {
   "cell_type": "code",
   "execution_count": null,
   "metadata": {},
   "outputs": [],
   "source": []
  }
 ],
 "metadata": {
  "kernelspec": {
   "display_name": "Python 3",
   "language": "python",
   "name": "python3"
  },
  "language_info": {
   "codemirror_mode": {
    "name": "ipython",
    "version": 3
   },
   "file_extension": ".py",
   "mimetype": "text/x-python",
   "name": "python",
   "nbconvert_exporter": "python",
   "pygments_lexer": "ipython3",
   "version": "3.7.3"
  }
 },
 "nbformat": 4,
 "nbformat_minor": 2
}
