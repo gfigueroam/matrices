{
 "cells": [
  {
   "cell_type": "markdown",
   "metadata": {},
   "source": [
    "Student Name: Mazvydas Giedrikas"
   ]
  },
  {
   "cell_type": "markdown",
   "metadata": {},
   "source": [
    "Student ID: 19214294"
   ]
  },
  {
   "cell_type": "markdown",
   "metadata": {},
   "source": [
    "Please use this notebook to work on Task 1. You should not import any modules."
   ]
  },
  {
   "cell_type": "code",
   "execution_count": 126,
   "metadata": {
    "pycharm": {
     "is_executing": false
    }
   },
   "outputs": [],
   "source": [
    "import csv\n",
    "\n",
    "\n",
    "class MatrixOp:\n",
    "    def sum(self, m1, m2):\n",
    "        return self.__op__(self.func_add, m1, m2)\n",
    "\n",
    "    def sub(self, m1, m2):\n",
    "        return self.__op__(self.func_sub, m1, m2)\n",
    "\n",
    "    def __op__(self, op_func, m1, m2):\n",
    "        self.__validate_matrices(m1, m2, self.__validate_for_add_sub)\n",
    "        return [[op_func(a, b) for a, b in zip(m1_row, m2_row)]\n",
    "                for m1_row, m2_row in zip(m1, m2)]\n",
    "\n",
    "    def dot(self, m1, m2):\n",
    "        self.__validate_matrices(m1, m2, self.__validate_for_dot)\n",
    "        return [[sum([el_1 * el_2 for el_1, el_2 in zip(row1, row2)])\n",
    "                 for row2 in self.transpose(m2)] for row1 in m1]\n",
    "\n",
    "    def transpose(self, m):\n",
    "        self.__check_rows(m)\n",
    "        return [list(x) for x in zip(*m)]\n",
    "\n",
    "    def determinant(self, m):\n",
    "        # a*d - b*c, for matrix [ [a, b], [c, d] ]\n",
    "        self.__validate_matrices(m, [[]], self.__validate_for_determinant)\n",
    "        return m[0][0] * m[1][1] - m[0][1] * m[1][0]\n",
    "\n",
    "    def get_matrix_shape(self, matrix):\n",
    "        \"\"\" return: [rows, cols] \"\"\"\n",
    "        self.__check_rows(matrix)\n",
    "        return [len(matrix), len(matrix[0])]\n",
    "\n",
    "    @staticmethod\n",
    "    def func_add(a, b):\n",
    "        return a + b\n",
    "\n",
    "    @staticmethod\n",
    "    def func_sub(a, b):\n",
    "        return a - b\n",
    "\n",
    "    @staticmethod\n",
    "    def __check_rows(matrix):\n",
    "        for row in matrix:\n",
    "            if len(row) != len(matrix[0]):\n",
    "                raise ValueError(\"All matrix rows should be same length\")\n",
    "\n",
    "    def __validate_matrices(self, m1, m2, func_validate):\n",
    "        self.__check_rows(m1)\n",
    "        self.__check_rows(m2)\n",
    "        func_validate(self.get_matrix_shape(m1),  self.get_matrix_shape(m2))\n",
    "\n",
    "    @staticmethod\n",
    "    def __validate_for_add_sub(shape_m1, shape_m2):\n",
    "        if shape_m1[0] != shape_m2[0] or shape_m1[1] != shape_m2[1]:\n",
    "            raise ValueError(\"Matrices should have same shape\")\n",
    "\n",
    "    @staticmethod\n",
    "    def __validate_for_determinant(shape, unused):\n",
    "        if shape[0] != 2 or shape[1] != 2:\n",
    "            raise ValueError(\"Must be square matrix of shape 2x2\")\n",
    "\n",
    "    @staticmethod\n",
    "    def __validate_for_dot(shape_m1, shape_m2):\n",
    "        if shape_m1[1] != shape_m2[0]:\n",
    "            raise ValueError(\"Matrices in bad shape for the dot product {} {}\".format(shape_m1, shape_m2))\n",
    "\n",
    "    @staticmethod\n",
    "    def export_matrix_to_csv(file, matrix):\n",
    "        try:\n",
    "            with open(file, 'w', newline='') as f:\n",
    "                csv.writer(f).writerows(matrix)\n",
    "                   \n",
    "        except OSError as e:\n",
    "            print(e)\n",
    "\n",
    "    @staticmethod\n",
    "    def import_matrix_from_csv(file, type_to_cast):\n",
    "        \"\"\" import csv to list of list of type [int, float, str...] \"\"\"\n",
    "        try:\n",
    "            with open(file) as f:\n",
    "                return [list(map(type_to_cast, rec)) for rec in csv.reader(f)]\n",
    "\n",
    "        except OSError as e:\n",
    "            print(e)\n",
    "            return None\n",
    "\n",
    "\n",
    "def print_m(m):\n",
    "    for r in m:\n",
    "        print(r)\n",
    "    print()"
   ]
  },
  {
   "cell_type": "code",
   "execution_count": 129,
   "outputs": [
    {
     "name": "stdout",
     "text": [
      "[2, 5, 6]\n[9, 10, 10]\n[11, 13, 12]\n\n[58, 64]\n[139, 154]\n\n8\n[[1, 2, 3], [4, 5, 6]]\n"
     ],
     "output_type": "stream"
    }
   ],
   "source": [
    "def main():\n",
    "    matrix_op = MatrixOp()\n",
    "\n",
    "    m1 = [\n",
    "        [1, 2, 3],\n",
    "        [4, 5, 6],\n",
    "        [5, 6, 4]\n",
    "    ]\n",
    "    m2 = [\n",
    "        [1, 3, 3],\n",
    "        [5, 5, 4],\n",
    "        [6, 7, 8]\n",
    "    ]\n",
    "\n",
    "    r1 = matrix_op.sum(m1, m2)\n",
    "    print_m(r1)\n",
    "\n",
    "    m1 = [\n",
    "        [1, 2, 3],\n",
    "        [4, 5, 6],\n",
    "    ]\n",
    "\n",
    "    m2 = [\n",
    "        [7, 8],\n",
    "        [9, 10],\n",
    "        [11, 12],\n",
    "    ]\n",
    "\n",
    "    # r1 = matrix_op.sum()\n",
    "    # r2 = matrix_op.subtract()\n",
    "    r3 = matrix_op.dot(m1, m2)\n",
    "    print_m(r3)\n",
    "    # print(r2)\n",
    "\n",
    "    m = [\n",
    "        [4, 3],\n",
    "        [4, 5]\n",
    "    ]\n",
    "    # print_m(m)\n",
    "    print(matrix_op.determinant(m))\n",
    "    #\n",
    "    # r = matrix_op.transpose(m)\n",
    "    # print_m(r)\n",
    "    matrix_op.export_matrix_to_csv(\"test.csv\", m1)\n",
    "    m = matrix_op.import_matrix_from_csv(\"test.csv\", int)\n",
    "    print(m)\n",
    "\n",
    "    \n",
    "main()"
   ],
   "metadata": {
    "collapsed": false,
    "pycharm": {
     "name": "#%%\n",
     "is_executing": false
    }
   }
  },
  {
   "cell_type": "code",
   "execution_count": null,
   "outputs": [],
   "source": [
    "\n"
   ],
   "metadata": {
    "collapsed": false,
    "pycharm": {
     "name": "#%%\n"
    }
   }
  }
 ],
 "metadata": {
  "kernelspec": {
   "display_name": "Python 3",
   "language": "python",
   "name": "python3"
  },
  "language_info": {
   "codemirror_mode": {
    "name": "ipython",
    "version": 3
   },
   "file_extension": ".py",
   "mimetype": "text/x-python",
   "name": "python",
   "nbconvert_exporter": "python",
   "pygments_lexer": "ipython3",
   "version": "3.7.0"
  },
  "pycharm": {
   "stem_cell": {
    "cell_type": "raw",
    "source": [],
    "metadata": {
     "collapsed": false
    }
   }
  }
 },
 "nbformat": 4,
 "nbformat_minor": 2
}
