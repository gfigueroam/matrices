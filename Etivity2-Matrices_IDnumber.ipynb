{
 "cells": [
  {
   "cell_type": "markdown",
   "metadata": {},
   "source": [
    "Student Name:David Moore"
   ]
  },
  {
   "cell_type": "markdown",
   "metadata": {},
   "source": [
    "Student ID:19214316"
   ]
  },
  {
   "cell_type": "markdown",
   "metadata": {},
   "source": [
    "Please use this notebook to work on Task 1. You should not import any modules."
   ]
  },
  {
   "cell_type": "markdown",
   "metadata": {},
   "source": [
    " Task 1 (Complete by Saturday 28/09)\n",
    "Choose two of the following matrix operations and write Python functions to perform the operations.\n",
    "\n",
    "Provide the size of a matrix as a 2-dimensional tuple\n",
    "Sum/subtract the matrix with another matrix of suitable size\n",
    "Multiply the matrix with a matrix or vector of suitable size\n",
    "\n",
    "Choose two of the following matrix operations and write Python functions to perform the operations.\n",
    "\n",
    "Calculate the determinant of a 2x2 matrix. For any other matrix this function should raise a suitable exception.\n",
    "Calculate the inverse of a 2x2 matrix.  For any other matrix this function should raise a suitable exception.\n",
    "Calculate the transpose of an mxn matrix. Calculate the Eigen values of a 2x2 matrix.  For any other matrix this function should raise a suitable exception.\n",
    "Please note the change in item 6 (original text struck through).\n",
    "\n",
    "Choose one of the following file operations and write a Python function to perform the operation:\n",
    "\n",
    "Export the matrix to a CSV file\n",
    "Import a matrix from CSV file"
   ]
  },
  {
   "cell_type": "code",
   "execution_count": 1,
   "metadata": {},
   "outputs": [],
   "source": [
    "## 1. Provide the size of a matrix as a 2-dimensional tuple\n",
    "def MatrixSize(matrix):\n",
    "    \"\"\"\n",
    "    Inputs: Matrix as a List of list\n",
    "    Logic: Get the size of the input Matrix.\n",
    "    OutPuts: 2 dimensional tuple containing size of matrix.\n",
    "    \"\"\"  \n",
    "    Rows   = len(matrix)\n",
    "    Colums = len(matrix[0])\n",
    "    \n",
    "    return([Rows],[Colums])"
   ]
  },
  {
   "cell_type": "code",
   "execution_count": 226,
   "metadata": {},
   "outputs": [],
   "source": [
    "# Create Matrices for testing\n",
    "\n",
    "matrix_1 =[[5,2],[3,4],[1,2]]\n",
    "matrix_2 =[[1,2],[3,4]]"
   ]
  },
  {
   "cell_type": "code",
   "execution_count": 225,
   "metadata": {},
   "outputs": [
    {
     "data": {
      "text/plain": [
       "([3], [2])"
      ]
     },
     "execution_count": 225,
     "metadata": {},
     "output_type": "execute_result"
    }
   ],
   "source": [
    "# Test MatrixSize function 1\n",
    "WhatSize = MatrixSize(matrix_1)\n",
    "WhatSize"
   ]
  },
  {
   "cell_type": "code",
   "execution_count": 227,
   "metadata": {},
   "outputs": [
    {
     "data": {
      "text/plain": [
       "([2], [2])"
      ]
     },
     "execution_count": 227,
     "metadata": {},
     "output_type": "execute_result"
    }
   ],
   "source": [
    "# Test MatrixSize function 2\n",
    "WhatSize = MatrixSize(matrix_2)\n",
    "WhatSize"
   ]
  },
  {
   "cell_type": "code",
   "execution_count": 235,
   "metadata": {},
   "outputs": [],
   "source": [
    "## 2. Sum/subtract the matrix with another matrix of suitable size\n",
    "def MatrixSumSub (matrix_1,matrix_2,operation):\n",
    "    \"\"\"\n",
    "    Inputs: Matrix 1  = list of lists.\n",
    "            Marix 2.  = list of lists.\n",
    "            Operation = operation to be performed + or - as a string.\n",
    "    Logic: Add or subtract 2 2x2 Matrices\n",
    "    OutPuts:Result Matrix , list of lists.\n",
    "    \n",
    "    \"\"\"\n",
    "    \n",
    "    ResultMatrix = matrix_1\n",
    "    \n",
    "    Rows   = len(matrix_1)\n",
    "    Colums = len(matrix_1[0])\n",
    "    \n",
    "    temp = 0\n",
    "    \n",
    "    if operation ==\"+\":\n",
    "        for i in range(Rows):\n",
    "            for j in range(Colums):\n",
    "                temp = matrix_1[i][j] + matrix_2[i][j]\n",
    "                ResultMatrix[i][j] = temp\n",
    "                \n",
    "    elif operation ==\"-\": \n",
    "        for i in range(Rows):\n",
    "            for j in range(Colums):\n",
    "                temp = matrix_1[i][j] - matrix_2[i][j]\n",
    "                ResultMatrix[i][j] = temp\n",
    "                \n",
    "    else:\n",
    "        raise Exception: (\"Operation not defined\")\n",
    "                \n",
    "    return ResultMatrix\n",
    "\n",
    "    \n",
    "    \n",
    "\n",
    "    "
   ]
  },
  {
   "cell_type": "code",
   "execution_count": 236,
   "metadata": {},
   "outputs": [
    {
     "data": {
      "text/plain": [
       "[[6, 4], [6, 8]]"
      ]
     },
     "execution_count": 236,
     "metadata": {},
     "output_type": "execute_result"
    }
   ],
   "source": [
    "# Matrix addition test 1\n",
    "matrix_3 =[[5,2],[3,4]]\n",
    "matrix_4 =[[1,2],[3,4]]\n",
    "MatrixSumSub (matrix_3,matrix_4, \"+\")"
   ]
  },
  {
   "cell_type": "code",
   "execution_count": 237,
   "metadata": {},
   "outputs": [
    {
     "data": {
      "text/plain": [
       "[[6, 4], [6, 8], [13, 10]]"
      ]
     },
     "execution_count": 237,
     "metadata": {},
     "output_type": "execute_result"
    }
   ],
   "source": [
    "# Matrix addition test 2\n",
    "matrix_5 =[[5,2],[3,4],[8,4]]\n",
    "matrix_6 =[[1,2],[3,4],[5,6]]\n",
    "MatrixSumSub (matrix_5,matrix_6, \"+\")"
   ]
  },
  {
   "cell_type": "code",
   "execution_count": 238,
   "metadata": {},
   "outputs": [
    {
     "data": {
      "text/plain": [
       "[[5, 2], [3, 4]]"
      ]
     },
     "execution_count": 238,
     "metadata": {},
     "output_type": "execute_result"
    }
   ],
   "source": [
    "# Matrix subtract test 1\n",
    "MatrixSumSub (matrix_3,matrix_4, \"-\")"
   ]
  },
  {
   "cell_type": "code",
   "execution_count": 239,
   "metadata": {},
   "outputs": [
    {
     "data": {
      "text/plain": [
       "[[5, 2], [3, 4], [8, 4]]"
      ]
     },
     "execution_count": 239,
     "metadata": {},
     "output_type": "execute_result"
    }
   ],
   "source": [
    "# Matrix subtract test 2\n",
    "MatrixSumSub (matrix_5,matrix_6, \"-\")"
   ]
  },
  {
   "cell_type": "code",
   "execution_count": 242,
   "metadata": {},
   "outputs": [],
   "source": [
    "# 3.Multiply the matrix with a matrix or vector of suitable size\n",
    "\n",
    "def MatrixMulty(matrix_1,matrix_2):\n",
    "    \"\"\"\n",
    "    Inputs: Matrix 1  = list of lists.\n",
    "            Marix 2.  = list of lists.\n",
    "    Logic:  Multiply the matrix with a matrix or vector of suitable size\n",
    "    OutPuts:Result Matrix , list of lists.\n",
    "    \"\"\"  \n",
    "    Result = []\n",
    "    \n",
    "    Row_1 = len(matrix_1)\n",
    "    Col_1 = len(matrix_1[0])\n",
    "    \n",
    "    Row_2 = len(matrix_2)\n",
    "    Col_2 = len(matrix_2[0])\n",
    "    \n",
    "    if Col_1 == Row_2:\n",
    "        for i in range(Col_2):\n",
    "            Result.append([0] * Row_1)\n",
    "      \n",
    "        for i in range(Row_1):\n",
    "            for j in range(Col_2):\n",
    "                for k in range(Row_2):\n",
    "                    Result[i][j] += matrix_1[i][k] * matrix_2[k][j]\n",
    "        \n",
    "        \n",
    "    else:\n",
    "        raise Exception (\"Matrices are not the correct to to multiply\")   \n",
    "    return (Result)    "
   ]
  },
  {
   "cell_type": "code",
   "execution_count": 243,
   "metadata": {},
   "outputs": [
    {
     "data": {
      "text/plain": [
       "[[58, 64], [139, 154]]"
      ]
     },
     "execution_count": 243,
     "metadata": {},
     "output_type": "execute_result"
    }
   ],
   "source": [
    "# Multiply the matrix with a matrix or vector of suitable size test 1.\n",
    "matrix_7 =[[1,2,3],[4,5,6]]\n",
    "matrix_8 =[[7,8],[9,10],[11,12]]\n",
    "MatrixMulty(matrix_7,matrix_8)"
   ]
  },
  {
   "cell_type": "code",
   "execution_count": 246,
   "metadata": {},
   "outputs": [
    {
     "data": {
      "text/plain": [
       "[[152, 199], [50, 67]]"
      ]
     },
     "execution_count": 246,
     "metadata": {},
     "output_type": "execute_result"
    }
   ],
   "source": [
    "# Multiply the matrix with a matrix or vector of suitable size test 2.\n",
    "matrix_9 =[[10,17],[4,5]]\n",
    "matrix_10 =[[5,8],[6,7]]\n",
    "MatrixMulty(matrix_9,matrix_10)"
   ]
  },
  {
   "cell_type": "code",
   "execution_count": 247,
   "metadata": {},
   "outputs": [],
   "source": [
    "# 4.Calculate the determinant of a 2x2 matrix. For any other matrix this function should raise a suitable exception.\n",
    "def determinate(matrix):\n",
    "    \"\"\"\n",
    "    Inputs: Matrix as List of list.  \n",
    "    Logic:  Find the determinate of 2x2 matrix.\n",
    "    Output: Determinate as a float.\n",
    "    Exception: if not 2x2 matarix as input.\n",
    "    \"\"\"\n",
    "    OutDeterminate = 0\n",
    "    \n",
    "    Rows   = len(matrix)\n",
    "    Colums = len(matrix[0])\n",
    "    \n",
    "    if Rows == 2 and Colums ==2:\n",
    "        OutDeterminate = (matrix[0][0]*matrix[1][1])-(matrix[0][1]*matrix[1][0])\n",
    "        \n",
    "    else:\n",
    "        raise Exception('Matrix passed is of the wrong size')\n",
    "        \n",
    "    return OutDeterminate\n",
    "     \n",
    "    "
   ]
  },
  {
   "cell_type": "code",
   "execution_count": 249,
   "metadata": {},
   "outputs": [
    {
     "data": {
      "text/plain": [
       "-14"
      ]
     },
     "execution_count": 249,
     "metadata": {},
     "output_type": "execute_result"
    }
   ],
   "source": [
    "# determinant of a 2x2 matrix test1\n",
    "matrix_11 =[[3,8],[4,6]]\n",
    "determinate(matrix_11)"
   ]
  },
  {
   "cell_type": "code",
   "execution_count": 250,
   "metadata": {},
   "outputs": [
    {
     "ename": "Exception",
     "evalue": "Matrix passed is of the wrong size",
     "output_type": "error",
     "traceback": [
      "\u001b[1;31m---------------------------------------------------------------------------\u001b[0m",
      "\u001b[1;31mException\u001b[0m                                 Traceback (most recent call last)",
      "\u001b[1;32m<ipython-input-250-9dc42406f037>\u001b[0m in \u001b[0;36m<module>\u001b[1;34m\u001b[0m\n\u001b[0;32m      1\u001b[0m \u001b[1;31m# determinant of a 2x2 matrix test2 Exception\u001b[0m\u001b[1;33m\u001b[0m\u001b[1;33m\u001b[0m\u001b[1;33m\u001b[0m\u001b[0m\n\u001b[0;32m      2\u001b[0m \u001b[0mmatrix_12\u001b[0m \u001b[1;33m=\u001b[0m\u001b[1;33m[\u001b[0m\u001b[1;33m[\u001b[0m\u001b[1;36m3\u001b[0m\u001b[1;33m,\u001b[0m\u001b[1;36m8\u001b[0m\u001b[1;33m]\u001b[0m\u001b[1;33m,\u001b[0m\u001b[1;33m[\u001b[0m\u001b[1;36m4\u001b[0m\u001b[1;33m,\u001b[0m\u001b[1;36m6\u001b[0m\u001b[1;33m]\u001b[0m\u001b[1;33m,\u001b[0m\u001b[1;33m[\u001b[0m\u001b[1;36m9\u001b[0m\u001b[1;33m,\u001b[0m\u001b[1;36m3\u001b[0m\u001b[1;33m,\u001b[0m\u001b[1;36m5\u001b[0m\u001b[1;33m]\u001b[0m\u001b[1;33m]\u001b[0m\u001b[1;33m\u001b[0m\u001b[1;33m\u001b[0m\u001b[0m\n\u001b[1;32m----> 3\u001b[1;33m \u001b[0mdeterminate\u001b[0m\u001b[1;33m(\u001b[0m\u001b[0mmatrix_12\u001b[0m\u001b[1;33m)\u001b[0m\u001b[1;33m\u001b[0m\u001b[1;33m\u001b[0m\u001b[0m\n\u001b[0m",
      "\u001b[1;32m<ipython-input-247-4ab713acbf85>\u001b[0m in \u001b[0;36mdeterminate\u001b[1;34m(matrix)\u001b[0m\n\u001b[0;32m     16\u001b[0m \u001b[1;33m\u001b[0m\u001b[0m\n\u001b[0;32m     17\u001b[0m     \u001b[1;32melse\u001b[0m\u001b[1;33m:\u001b[0m\u001b[1;33m\u001b[0m\u001b[1;33m\u001b[0m\u001b[0m\n\u001b[1;32m---> 18\u001b[1;33m         \u001b[1;32mraise\u001b[0m \u001b[0mException\u001b[0m\u001b[1;33m(\u001b[0m\u001b[1;34m'Matrix passed is of the wrong size'\u001b[0m\u001b[1;33m)\u001b[0m\u001b[1;33m\u001b[0m\u001b[1;33m\u001b[0m\u001b[0m\n\u001b[0m\u001b[0;32m     19\u001b[0m \u001b[1;33m\u001b[0m\u001b[0m\n\u001b[0;32m     20\u001b[0m     \u001b[1;32mreturn\u001b[0m \u001b[0mOutDeterminate\u001b[0m\u001b[1;33m\u001b[0m\u001b[1;33m\u001b[0m\u001b[0m\n",
      "\u001b[1;31mException\u001b[0m: Matrix passed is of the wrong size"
     ]
    }
   ],
   "source": [
    "# determinant of a 2x2 matrix test2 Exception\n",
    "matrix_12 =[[3,8],[4,6],[9,3,5]]\n",
    "determinate(matrix_12)"
   ]
  },
  {
   "cell_type": "code",
   "execution_count": 256,
   "metadata": {},
   "outputs": [],
   "source": [
    "# 5. Calculate the inverse of a 2x2 matrix. For any other matrix this function should raise a suitable exception.\n",
    "def InverseMatrix (matrix):\n",
    "    \"\"\"\n",
    "    Inputs: 2x2 matrix as list of lists.\n",
    "    Logic: Determin the inverse of matrix.\n",
    "    Output: inverse matrix of the iput as a list of lists.\n",
    "    \n",
    "    \"\"\"\n",
    "    \n",
    "    ResultMatrix =[[0,0],[0,0]]\n",
    "    \n",
    "    \n",
    "    determin=determinate(matrix)\n",
    "    \n",
    "    Rows   = len(matrix)\n",
    "    Colums = len(matrix[0])\n",
    "    \n",
    "    if Rows == 2 and Colums ==2:\n",
    "        ResultMatrix[0][0] =  matrix[1][1]/determin\n",
    "        ResultMatrix[0][1] = (matrix[0][1]/determin)*-1 \n",
    "        ResultMatrix[1][0] = (matrix[1][0]/determin)*-1\n",
    "        ResultMatrix[1][1] =  matrix[0][0]/determin\n",
    "        \n",
    "    else:\n",
    "        raise Exception('Matrix passed is of the wrong size')\n",
    "        \n",
    "    \n",
    "    return ResultMatrix"
   ]
  },
  {
   "cell_type": "code",
   "execution_count": 257,
   "metadata": {},
   "outputs": [
    {
     "data": {
      "text/plain": [
       "[[0.6, -0.2], [-0.7, 0.4]]"
      ]
     },
     "execution_count": 257,
     "metadata": {},
     "output_type": "execute_result"
    }
   ],
   "source": [
    "#Test Inverse of a matrix\n",
    "matrix_13 =[[4,2],[7,6]]\n",
    "InverseMatrix(matrix_13)"
   ]
  },
  {
   "cell_type": "code",
   "execution_count": 258,
   "metadata": {},
   "outputs": [
    {
     "ename": "Exception",
     "evalue": "Matrix passed is of the wrong size",
     "output_type": "error",
     "traceback": [
      "\u001b[1;31m---------------------------------------------------------------------------\u001b[0m",
      "\u001b[1;31mException\u001b[0m                                 Traceback (most recent call last)",
      "\u001b[1;32m<ipython-input-258-6b3f0c0d2a91>\u001b[0m in \u001b[0;36m<module>\u001b[1;34m\u001b[0m\n\u001b[0;32m      1\u001b[0m \u001b[1;31m#Test Inverse of a matrix 2, Exception\u001b[0m\u001b[1;33m\u001b[0m\u001b[1;33m\u001b[0m\u001b[1;33m\u001b[0m\u001b[0m\n\u001b[0;32m      2\u001b[0m \u001b[0mmatrix_14\u001b[0m \u001b[1;33m=\u001b[0m\u001b[1;33m[\u001b[0m\u001b[1;33m[\u001b[0m\u001b[1;36m4\u001b[0m\u001b[1;33m,\u001b[0m\u001b[1;36m2\u001b[0m\u001b[1;33m]\u001b[0m\u001b[1;33m,\u001b[0m\u001b[1;33m[\u001b[0m\u001b[1;36m7\u001b[0m\u001b[1;33m,\u001b[0m\u001b[1;36m6\u001b[0m\u001b[1;33m]\u001b[0m\u001b[1;33m,\u001b[0m\u001b[1;33m[\u001b[0m\u001b[1;36m8\u001b[0m\u001b[1;33m,\u001b[0m\u001b[1;36m3\u001b[0m\u001b[1;33m,\u001b[0m\u001b[1;36m5\u001b[0m\u001b[1;33m]\u001b[0m\u001b[1;33m]\u001b[0m\u001b[1;33m\u001b[0m\u001b[1;33m\u001b[0m\u001b[0m\n\u001b[1;32m----> 3\u001b[1;33m \u001b[0mInverseMatrix\u001b[0m\u001b[1;33m(\u001b[0m\u001b[0mmatrix_14\u001b[0m\u001b[1;33m)\u001b[0m\u001b[1;33m\u001b[0m\u001b[1;33m\u001b[0m\u001b[0m\n\u001b[0m",
      "\u001b[1;32m<ipython-input-256-24394dfe9aae>\u001b[0m in \u001b[0;36mInverseMatrix\u001b[1;34m(matrix)\u001b[0m\n\u001b[0;32m     11\u001b[0m \u001b[1;33m\u001b[0m\u001b[0m\n\u001b[0;32m     12\u001b[0m \u001b[1;33m\u001b[0m\u001b[0m\n\u001b[1;32m---> 13\u001b[1;33m     \u001b[0mdetermin\u001b[0m\u001b[1;33m=\u001b[0m\u001b[0mdeterminate\u001b[0m\u001b[1;33m(\u001b[0m\u001b[0mmatrix\u001b[0m\u001b[1;33m)\u001b[0m\u001b[1;33m\u001b[0m\u001b[1;33m\u001b[0m\u001b[0m\n\u001b[0m\u001b[0;32m     14\u001b[0m \u001b[1;33m\u001b[0m\u001b[0m\n\u001b[0;32m     15\u001b[0m     \u001b[0mRows\u001b[0m   \u001b[1;33m=\u001b[0m \u001b[0mlen\u001b[0m\u001b[1;33m(\u001b[0m\u001b[0mmatrix\u001b[0m\u001b[1;33m)\u001b[0m\u001b[1;33m\u001b[0m\u001b[1;33m\u001b[0m\u001b[0m\n",
      "\u001b[1;32m<ipython-input-247-4ab713acbf85>\u001b[0m in \u001b[0;36mdeterminate\u001b[1;34m(matrix)\u001b[0m\n\u001b[0;32m     16\u001b[0m \u001b[1;33m\u001b[0m\u001b[0m\n\u001b[0;32m     17\u001b[0m     \u001b[1;32melse\u001b[0m\u001b[1;33m:\u001b[0m\u001b[1;33m\u001b[0m\u001b[1;33m\u001b[0m\u001b[0m\n\u001b[1;32m---> 18\u001b[1;33m         \u001b[1;32mraise\u001b[0m \u001b[0mException\u001b[0m\u001b[1;33m(\u001b[0m\u001b[1;34m'Matrix passed is of the wrong size'\u001b[0m\u001b[1;33m)\u001b[0m\u001b[1;33m\u001b[0m\u001b[1;33m\u001b[0m\u001b[0m\n\u001b[0m\u001b[0;32m     19\u001b[0m \u001b[1;33m\u001b[0m\u001b[0m\n\u001b[0;32m     20\u001b[0m     \u001b[1;32mreturn\u001b[0m \u001b[0mOutDeterminate\u001b[0m\u001b[1;33m\u001b[0m\u001b[1;33m\u001b[0m\u001b[0m\n",
      "\u001b[1;31mException\u001b[0m: Matrix passed is of the wrong size"
     ]
    }
   ],
   "source": [
    "#Test Inverse of a matrix 2, Exception\n",
    "matrix_14 =[[4,2],[7,6],[8,3,5]]\n",
    "InverseMatrix(matrix_14)"
   ]
  },
  {
   "cell_type": "code",
   "execution_count": 338,
   "metadata": {},
   "outputs": [],
   "source": [
    "#6.Calculate the transpose of an mxn matrix.\n",
    "flat_list = 0\n",
    "total_flatList =[]\n",
    "\n",
    "matrix_15=[1,2],[3,4] \n",
    "\n",
    "Rows = len(matrix_15)\n",
    "Cols = len(matrix_15[0])\n",
    "\n",
    "for i in range (Rows):\n",
    "    \n",
    "    flat_list =matrix_15[i][0:Cols:1]\n",
    "    total_flatList += flat_list\n",
    "    \n",
    "    "
   ]
  },
  {
   "cell_type": "code",
   "execution_count": 339,
   "metadata": {},
   "outputs": [
    {
     "data": {
      "text/plain": [
       "[1, 2, 3, 4]"
      ]
     },
     "execution_count": 339,
     "metadata": {},
     "output_type": "execute_result"
    }
   ],
   "source": [
    "total_flatList"
   ]
  },
  {
   "cell_type": "code",
   "execution_count": 340,
   "metadata": {},
   "outputs": [],
   "source": [
    "newMatrix = []\n",
    "newRow1 = []\n",
    "for i in range (Cols):\n",
    "    newRow1 = total_flatList[i:len(total_flatList):Cols]\n",
    "   \n",
    "    newMatrix += [newRow1] "
   ]
  },
  {
   "cell_type": "code",
   "execution_count": 341,
   "metadata": {},
   "outputs": [
    {
     "data": {
      "text/plain": [
       "[[1, 3], [2, 4]]"
      ]
     },
     "execution_count": 341,
     "metadata": {},
     "output_type": "execute_result"
    }
   ],
   "source": [
    "newMatrix"
   ]
  },
  {
   "cell_type": "code",
   "execution_count": 360,
   "metadata": {},
   "outputs": [],
   "source": [
    "#6.Calculate the transpose of an mxn matrix.\n",
    "\n",
    "def transpose (matrix):\n",
    "    newMatrix = []\n",
    "    newRow1 = []    \n",
    "    total_flatList =[]\n",
    "\n",
    "    flat_list = 0\n",
    "\n",
    "    Rows = len(matrix)\n",
    "    Cols = len(matrix[0])\n",
    "\n",
    "    for i in range (Rows):\n",
    "        flat_list =matrix[i][0:Cols:1]\n",
    "        total_flatList += flat_list\n",
    "        \n",
    "    for i in range (Cols):\n",
    "        newRow1 = total_flatList[i:len(total_flatList):Cols]\n",
    "        newMatrix += [newRow1]  \n",
    "        \n",
    "    return newMatrix\n"
   ]
  },
  {
   "cell_type": "code",
   "execution_count": 363,
   "metadata": {},
   "outputs": [
    {
     "data": {
      "text/plain": [
       "[[1, 3], [2, 4]]"
      ]
     },
     "execution_count": 363,
     "metadata": {},
     "output_type": "execute_result"
    }
   ],
   "source": [
    "#Calculate the transpose of an mxn matrix Test 1\n",
    "Matrix_16 =[1,2],[3,4]\n",
    "transpose(Matrix_16)"
   ]
  },
  {
   "cell_type": "code",
   "execution_count": 362,
   "metadata": {},
   "outputs": [
    {
     "data": {
      "text/plain": [
       "[[7, 60], [9, 14], [10, 70]]"
      ]
     },
     "execution_count": 362,
     "metadata": {},
     "output_type": "execute_result"
    }
   ],
   "source": [
    "#Calculate the transpose of an mxn matrix Test 1\n",
    "Matrix_17 =[7,9,10],[60,14,70]\n",
    "transpose(Matrix_17)"
   ]
  },
  {
   "cell_type": "code",
   "execution_count": 17,
   "metadata": {},
   "outputs": [],
   "source": [
    "#Export the matrix to a CSV file\n",
    "import numpy\n",
    "numpy.savetxt(\"Matrix.csv\", matrix_5, delimiter=\",\")"
   ]
  },
  {
   "cell_type": "code",
   "execution_count": null,
   "metadata": {},
   "outputs": [],
   "source": []
  }
 ],
 "metadata": {
  "kernelspec": {
   "display_name": "Python 3",
   "language": "python",
   "name": "python3"
  },
  "language_info": {
   "codemirror_mode": {
    "name": "ipython",
    "version": 3
   },
   "file_extension": ".py",
   "mimetype": "text/x-python",
   "name": "python",
   "nbconvert_exporter": "python",
   "pygments_lexer": "ipython3",
   "version": "3.7.3"
  }
 },
 "nbformat": 4,
 "nbformat_minor": 2
}
