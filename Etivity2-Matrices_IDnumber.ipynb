{
 "cells": [
  {
   "cell_type": "markdown",
   "metadata": {},
   "source": [
    " Student Name: David Corley"
   ]
  },
  {
   "cell_type": "markdown",
   "metadata": {},
   "source": [
    " Student ID: 0033995"
   ]
  },
  {
   "cell_type": "markdown",
   "metadata": {},
   "source": [
    " The approach taken here was to create a Matrix class\n",
    " The class accepts an list of lists as a parameter\n",
    " If the column counts for all rows are not consistent, raise an exception\n",
    " We store some useful information as class attributes on initialization\n",
    " The attributes are then used to:\n",
    " 1. Avoid continuously running len() across multiple methods for row/colum size\n",
    " 2. Easy comparison of matrix size (see __validSumParam)\n",
    "\n",
    " We also override the __str__ method for the Matrix class,\n",
    " such that when we try and print it, it behaves like a list of lists"
   ]
  },
  {
   "cell_type": "code",
   "execution_count": 1,
   "metadata": {},
   "outputs": [],
   "source": [
    "import csv\n",
    "\n",
    "\n",
    "class Matrix:\n",
    "    def __init__(self, matrix):\n",
    "        self.matrix = matrix\n",
    "        self.__validate()\n",
    "        self.rows = len(matrix)\n",
    "        # Pick any row for column length\n",
    "        # We ensure the column lengths in all rows\n",
    "        # are equal in __validate()\n",
    "        self.columns = len(matrix[0])\n",
    "        self.size = ((len(self.matrix)), (len(self.matrix[0])))\n",
    "        self.twobytwo = ((2), (2))\n",
    "\n",
    "    # Because we return Matrix class instances for some of our\n",
    "    # methods, overriding __str__ allows us to call print() directly\n",
    "    # on the Matrix instance and get the list-of-lists string representation\n",
    "    def __str__(self):\n",
    "        return str(self.matrix)\n",
    "\n",
    "    def __validate(self):\n",
    "        matIter = iter(self.matrix)\n",
    "        columns = len(next(matIter))\n",
    "        if not all(len(l) == columns for l in matIter):\n",
    "            raise ValueError('Column counts dont match')\n",
    "\n",
    "    def __validSumParam(self, secondMatrix):\n",
    "        if self.size != secondMatrix.size:\n",
    "            raise ValueError(\n",
    "                'Cannot sum/substract matrices of different sizes ')\n",
    "\n",
    "    def SumWith(self, secondMatrix):\n",
    "        return (self.__SumOrSub(secondMatrix, True))\n",
    "\n",
    "    def Subtract(self, secondMatrix):\n",
    "        return (self.__SumOrSub(secondMatrix, False))\n",
    "\n",
    "    def Multiply(self, secondMatrix):\n",
    "        self.__validateMul(secondMatrix)\n",
    "        dotProd = []\n",
    "        for row_idx, row_entry in enumerate(self.matrix):\n",
    "            dotProdRow = []\n",
    "            for mulCol in range(secondMatrix.columns):\n",
    "                dotProdVal = 0\n",
    "                for col_idx in range(len(row_entry)):\n",
    "                    dotProdVal += self.matrix[row_idx][col_idx] * \\\n",
    "                        secondMatrix.matrix[col_idx][mulCol]\n",
    "                dotProdRow.append(dotProdVal)\n",
    "            dotProd.append(dotProdRow)\n",
    "        return dotProd\n",
    "\n",
    "    def ScalarMul(self, scalar):\n",
    "        scaled = []\n",
    "        for row in range(len(self.matrix)):\n",
    "            scaledrow = []\n",
    "            for col in range(len(self.matrix[row])):\n",
    "                scaledrow.append(self.matrix[row][col]*scalar)\n",
    "            scaled.append(scaledrow)\n",
    "        return Matrix(scaled)\n",
    "\n",
    "    def Determinant(self):\n",
    "        self.__Validate2x2('Cannot calculate determinant of non 2x2 matrix')\n",
    "        return (self.matrix[0][0]*self.matrix[1][1])-(self.matrix[0][1]*self.matrix[1][0])\n",
    "\n",
    "    def Inverse(self):\n",
    "        self.__Validate2x2('Cannot calculate inverse of non 2x2 matrix')\n",
    "        invertMat = Matrix([[self.matrix[1][1], -self.matrix[0][1]],\n",
    "                            [-self.matrix[1][0], self.matrix[0][0]]])\n",
    "        if self.Determinant() == 0:\n",
    "            raise ValueError(\n",
    "                'Determinant = 0, The matrix is not invertible. ')\n",
    "        else:\n",
    "            return Matrix(invertMat.ScalarMul(1/self.Determinant()).matrix)\n",
    "\n",
    "    def Transpose(self):\n",
    "        transMat = []\n",
    "        for col_idx in range(self.columns):\n",
    "            transRow = []\n",
    "            for row_idx in range(self.rows):\n",
    "                transRow.append(self.matrix[row_idx][col_idx])\n",
    "            transMat.append(transRow)\n",
    "        return Matrix(transMat)\n",
    "\n",
    "    def ToCSV(self):\n",
    "        try:\n",
    "            with open('matrix.csv', 'w', newline='') as csvfile:\n",
    "                wr = csv.writer(csvfile)\n",
    "                for row in self.matrix:\n",
    "                    wr.writerow(row)\n",
    "        except PermissionError as e:\n",
    "            print(f\"Failed to open matrix.csv for writing! Error: {e}\")\n",
    "\n",
    "    def __Validate2x2(self, errMsg):\n",
    "        if self.size != self.twobytwo:\n",
    "            raise ValueError(errMsg)\n",
    "\n",
    "    def __validateMul(self, secondMatrix):\n",
    "        if self.columns != secondMatrix.rows:\n",
    "            raise ValueError(\n",
    "                'Cannot multiple matrices - dimensions incompatible')\n",
    "\n",
    "    def __SumOrSub(self, secondMatrix, doSum):\n",
    "        self.__validSumParam(secondMatrix)\n",
    "        matSum = []\n",
    "        for row_idx, row_entry in enumerate(self.matrix):\n",
    "            row = []\n",
    "            for col_idx in range(len(row_entry)):\n",
    "                if doSum:\n",
    "                    row.append(self.matrix[row_idx][col_idx] +\n",
    "                               secondMatrix.matrix[row_idx][col_idx])\n",
    "                else:\n",
    "                    row.append(self.matrix[row_idx][col_idx] -\n",
    "                               secondMatrix.matrix[row_idx][col_idx])\n",
    "            matSum.append(row)\n",
    "        return matSum\n",
    "\n"
   ]
  },
  {
   "cell_type": "markdown",
   "metadata": {},
   "source": []
  },
  {
   "cell_type": "code",
   "execution_count": 2,
   "metadata": {},
   "outputs": [
    {
     "name": "stdout",
     "output_type": "stream",
     "text": [
      "[[1, 3, 5], [7, 9, 11]]\n"
     ]
    }
   ],
   "source": [
    "# Sum Example\n",
    "matrix1 = Matrix([[0, 1, 2], [3, 4, 5]])\n",
    "matrix2 = Matrix([[1, 2, 3], [4, 5, 6]])\n",
    "print(matrix1.SumWith(matrix2))"
   ]
  },
  {
   "cell_type": "code",
   "execution_count": 3,
   "metadata": {},
   "outputs": [
    {
     "name": "stdout",
     "output_type": "stream",
     "text": [
      "[[-1, -1, -1], [-1, -1, -1]]\n"
     ]
    }
   ],
   "source": [
    "# Subtract Example\n",
    "matrix1 = Matrix([[0, 1, 2], [3, 4, 5]])\n",
    "matrix2 = Matrix([[1, 2, 3], [4, 5, 6]])\n",
    "print(matrix1.Subtract(matrix2))"
   ]
  },
  {
   "cell_type": "code",
   "execution_count": 4,
   "metadata": {},
   "outputs": [
    {
     "name": "stdout",
     "output_type": "stream",
     "text": [
      "[[13, 16], [40, 52]]\n"
     ]
    }
   ],
   "source": [
    "# Matrix Multiplication Example\n",
    "matrix1 = Matrix([[0, 1, 2], [3, 4, 5]])\n",
    "matrix2 = Matrix([[1, 2], [3, 4], [5, 6]])\n",
    "print(matrix1.Multiply(matrix2))"
   ]
  },
  {
   "cell_type": "code",
   "execution_count": 5,
   "metadata": {},
   "outputs": [
    {
     "name": "stdout",
     "output_type": "stream",
     "text": [
      "[[13], [40]]\n",
      "[[0, 0, 0], [1, 3, 5], [2, 6, 10]]\n"
     ]
    }
   ],
   "source": [
    "# Column Vector Multiplication Example\n",
    "matrix1 = Matrix([[0, 1, 2], [3, 4, 5]])\n",
    "matrix2 = Matrix([[1], [3], [5]])\n",
    "print(matrix1.Multiply(matrix2))\n",
    "# Row Vector Multiplication Example\n",
    "matrix1 = Matrix([[0], [1], [2]])\n",
    "matrix2 = Matrix([[1, 3, 5]])\n",
    "print(matrix1.Multiply(matrix2))"
   ]
  },
  {
   "cell_type": "code",
   "execution_count": 6,
   "metadata": {},
   "outputs": [
    {
     "name": "stdout",
     "output_type": "stream",
     "text": [
      "-3\n"
     ]
    }
   ],
   "source": [
    "# Determinant Example\n",
    "matrix1 = Matrix([[1, 2], [4, 5]])\n",
    "print(matrix1.Determinant())"
   ]
  },
  {
   "cell_type": "code",
   "execution_count": 7,
   "metadata": {},
   "outputs": [
    {
     "name": "stdout",
     "output_type": "stream",
     "text": [
      "[[4, 8], [16, 20]]\n"
     ]
    }
   ],
   "source": [
    "# Scalar Multiplication Example\n",
    "matrix1 = Matrix([[1, 2], [4, 5]])\n",
    "print(matrix1.ScalarMul(4))"
   ]
  },
  {
   "cell_type": "code",
   "execution_count": 8,
   "metadata": {},
   "outputs": [
    {
     "name": "stdout",
     "output_type": "stream",
     "text": [
      "[[-1.6666666666666665, 0.6666666666666666], [1.3333333333333333, -0.3333333333333333]]\n"
     ]
    }
   ],
   "source": [
    "# Inverse Example\n",
    "matrix1 = Matrix([[1, 2], [4, 5]])\n",
    "print(matrix1.Inverse())"
   ]
  },
  {
   "cell_type": "code",
   "execution_count": 9,
   "metadata": {},
   "outputs": [
    {
     "name": "stdout",
     "output_type": "stream",
     "text": [
      "[[1, 4], [2, 5]]\n"
     ]
    }
   ],
   "source": [
    "# Transpose Example 1\n",
    "matrix1 = Matrix([[1, 2], [4, 5]])\n",
    "print(matrix1.Transpose())"
   ]
  },
  {
   "cell_type": "code",
   "execution_count": 10,
   "metadata": {},
   "outputs": [
    {
     "name": "stdout",
     "output_type": "stream",
     "text": [
      "[[1, 4], [2, 5], [3, 6]]\n"
     ]
    }
   ],
   "source": [
    "# Transpose Example 2\n",
    "matrix1 = Matrix([[1, 2, 3], [4, 5, 6]])\n",
    "print(matrix1.Transpose())"
   ]
  },
  {
   "cell_type": "code",
   "execution_count": 11,
   "metadata": {},
   "outputs": [
    {
     "name": "stdout",
     "output_type": "stream",
     "text": [
      "None\n"
     ]
    }
   ],
   "source": [
    "# CSV Writer\n",
    "matrix1 = Matrix([[1, 2, 3], [4, 5, 6]])\n",
    "print(matrix1.ToCSV())"
   ]
  },
  {
   "cell_type": "code",
   "execution_count": 12,
   "metadata": {},
   "outputs": [
    {
     "name": "stdout",
     "output_type": "stream",
     "text": [
      "Determinant = 0, The matrix is not invertible. \n"
     ]
    }
   ],
   "source": [
    "# Inverse Determinant 0 Example\n",
    "matrix1 = Matrix([[2, 4], [1, 2]])\n",
    "try:\n",
    "    print(matrix1.Inverse())\n",
    "except ValueError as e:\n",
    "    print(e)"
   ]
  },
  {
   "cell_type": "code",
   "execution_count": 13,
   "metadata": {},
   "outputs": [
    {
     "name": "stdout",
     "output_type": "stream",
     "text": [
      "Column counts dont match\n"
     ]
    }
   ],
   "source": [
    "# Bad Matrix Example\n",
    "batMat = [[0, 1, 2], [3, 4]]\n",
    "try:\n",
    "    badMatrix = Matrix(batMat)\n",
    "except ValueError as e:\n",
    "    print(e)"
   ]
  },
  {
   "cell_type": "code",
   "execution_count": 14,
   "metadata": {},
   "outputs": [
    {
     "name": "stdout",
     "output_type": "stream",
     "text": [
      "Cannot calculate determinant of non 2x2 matrix\n"
     ]
    }
   ],
   "source": [
    "# Non 2x2 Determinant Error\n",
    "matrix1 = Matrix([[1, 2, 3], [4, 5, 6]])\n",
    "try:\n",
    "    print(matrix1.Determinant())\n",
    "except ValueError as e:\n",
    "    print(e)"
   ]
  },
  {
   "cell_type": "code",
   "execution_count": 15,
   "metadata": {},
   "outputs": [
    {
     "name": "stdout",
     "output_type": "stream",
     "text": [
      "Cannot calculate inverse of non 2x2 matrix\n"
     ]
    }
   ],
   "source": [
    "# Non 2x2 Inverse Error\n",
    "matrix1 = Matrix([[1, 2, 3], [4, 5, 6]])\n",
    "try:\n",
    "    print(matrix1.Inverse())\n",
    "except ValueError as e:\n",
    "    print(e)\n"
   ]
  }
 ],
 "metadata": {
  "file_extension": ".py",
  "kernelspec": {
   "display_name": "Python 3",
   "language": "python",
   "name": "python3"
  },
  "language_info": {
   "codemirror_mode": {
    "name": "ipython",
    "version": 3
   },
   "file_extension": ".py",
   "mimetype": "text/x-python",
   "name": "python",
   "nbconvert_exporter": "python",
   "pygments_lexer": "ipython3",
   "version": "3.7.3"
  },
  "mimetype": "text/x-python",
  "name": "python",
  "npconvert_exporter": "python",
  "pygments_lexer": "ipython3",
  "version": 3
 },
 "nbformat": 4,
 "nbformat_minor": 2
}
