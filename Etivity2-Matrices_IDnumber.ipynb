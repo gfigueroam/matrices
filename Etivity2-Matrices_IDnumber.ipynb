{
 "cells": [
  {
   "cell_type": "markdown",
   "metadata": {},
   "source": [
    "Student Name: Mazvydas Giedrikas"
   ]
  },
  {
   "cell_type": "markdown",
   "metadata": {},
   "source": [
    "Student ID: 19214294"
   ]
  },
  {
   "cell_type": "markdown",
   "metadata": {},
   "source": [
    "Please use this notebook to work on Task 1. You should not import any modules."
   ]
  },
  {
   "cell_type": "code",
   "execution_count": 88,
   "metadata": {
    "pycharm": {
     "is_executing": false
    }
   },
   "outputs": [],
   "source": [
    "import operator\n",
    "\n",
    "class MatrixOp:\n",
    "    def __init__(self, matrix_1, matrix_2):\n",
    "        self.matrix_1 = matrix_1\n",
    "        self.matrix_2 = matrix_2\n",
    "    \n",
    "    def sum(self):\n",
    "        self._validate_matrices()\n",
    "        return self.__op__(operator.add)\n",
    "        \n",
    "    def subtract(self):\n",
    "        self._validate_matrices()\n",
    "        return self.__op__(operator.sub)\n",
    "        \n",
    "    def __op__(self, op_func: operator):\n",
    "        result_matrix = []\n",
    "        for m1_row, m2_row in zip(self.matrix_1, self.matrix_2):\n",
    "            r = []\n",
    "            for m1_m2_row in zip(m1_row, m2_row):\n",
    "                a, b = m1_m2_row\n",
    "                r.append(op_func(a, b))\n",
    "                \n",
    "            result_matrix.append(r)\n",
    "            \n",
    "        return result_matrix\n",
    "    \n",
    "    def dot(self):\n",
    "        if len(self.matrix_1[0]) != len(self.matrix_2):\n",
    "            raise ValueError(\"Matrices in bad shape for the dot product\")\n",
    "        \n",
    "        result_matrix = []\n",
    "        for row_m1 in self.matrix_1:\n",
    "            # multiply row with each column of matrix 2\n",
    "            r = []\n",
    "            matrix_shape = self.get_matrix_shape(self.matrix_2)\n",
    "            for col in range(0, matrix_shape[1]):\n",
    "                res = 0   \n",
    "                # get sum of row x col\n",
    "                for j in range(0, len(self.matrix_2)):\n",
    "                    res += row_m1[j] * self.matrix_2[j][col]\n",
    "                r.append(res)\n",
    "                \n",
    "            result_matrix.append(r)\n",
    "            \n",
    "        return result_matrix\n",
    "    \n",
    "    def _validate_matrices(self):\n",
    "        if len(self.matrix_1) != len(self.matrix_2):\n",
    "            raise ValueError(\"Matrices should be same dimension\")\n",
    "        for m1_row, m2_row in zip(self.matrix_1, self.matrix_2):\n",
    "            if len(m1_row) != len(m2_row):\n",
    "                raise ValueError(\"Matrices should be same dimension\")   \n",
    "    \n",
    "    @staticmethod\n",
    "    def get_matrix_shape(matrix):\n",
    "        cols = len(matrix[0])\n",
    "        for row in matrix:\n",
    "            if len(row) != cols:\n",
    "                raise ValueError(\"All matrix rows should be same length\")\n",
    "            \n",
    "        return [len(matrix), cols]"
   ]
  },
  {
   "cell_type": "code",
   "execution_count": 89,
   "outputs": [
    {
     "name": "stdout",
     "text": [
      "[58, 64]\n[139, 154]\n"
     ],
     "output_type": "stream"
    }
   ],
   "source": [
    "\n",
    "def main():\n",
    "    m1 = [\n",
    "        [1, 2, 3], \n",
    "        [4, 5, 6], \n",
    "        [5, 6, 4]\n",
    "    ]\n",
    "    m2 = [\n",
    "        [1, 3, 3], \n",
    "        [5, 5, 4], \n",
    "        [6, 7, 8]\n",
    "    ]\n",
    "    \n",
    "    m1 = [\n",
    "        [1, 2, 3], \n",
    "        [4, 5, 6], \n",
    "    ]\n",
    "    \n",
    "    m2 = [\n",
    "        [7,   8], \n",
    "        [9,  10], \n",
    "        [11, 12], \n",
    "    ]\n",
    "    \n",
    "    matrix_op = MatrixOp(m1, m2)\n",
    "    # r1 = matrix_op.sum()\n",
    "    # r2 = matrix_op.subtract()\n",
    "    r3 = matrix_op.dot()\n",
    "    # print(r1)\n",
    "    # print(r2)\n",
    "    for r in r3:\n",
    "        print(r)\n",
    "\n",
    "    \n",
    "main()"
   ],
   "metadata": {
    "collapsed": false,
    "pycharm": {
     "name": "#%%\n",
     "is_executing": false
    }
   }
  },
  {
   "cell_type": "code",
   "execution_count": null,
   "outputs": [],
   "source": [
    "\n"
   ],
   "metadata": {
    "collapsed": false,
    "pycharm": {
     "name": "#%%\n"
    }
   }
  }
 ],
 "metadata": {
  "kernelspec": {
   "display_name": "Python 3",
   "language": "python",
   "name": "python3"
  },
  "language_info": {
   "codemirror_mode": {
    "name": "ipython",
    "version": 3
   },
   "file_extension": ".py",
   "mimetype": "text/x-python",
   "name": "python",
   "nbconvert_exporter": "python",
   "pygments_lexer": "ipython3",
   "version": "3.7.0"
  },
  "pycharm": {
   "stem_cell": {
    "cell_type": "raw",
    "source": [],
    "metadata": {
     "collapsed": false
    }
   }
  }
 },
 "nbformat": 4,
 "nbformat_minor": 2
}
