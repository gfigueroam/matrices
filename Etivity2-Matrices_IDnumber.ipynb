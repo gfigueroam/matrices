{
 "cells": [
  {
   "cell_type": "markdown",
   "metadata": {},
   "source": [
    "Student Name: John O'Sullivan"
   ]
  },
  {
   "cell_type": "markdown",
   "metadata": {},
   "source": [
    "Student ID: 0460842"
   ]
  },
  {
   "cell_type": "code",
   "execution_count": null,
   "metadata": {},
   "outputs": [],
   "source": [
    "# Task: Choose two of the following matrix operations and write Python functions to perform the operations.\n",
    "\n",
    "# 1. Provide the size of a matrix as a 2-dimensional tuple\n",
    "# 2. Sum/subtract the matrix with another matrix of suitable size\n",
    "############## 3. Multiply the matrix with a matrix or vector of suitable size ######### not selected\n",
    "\n",
    "# Choose two of the following matrix operations and write Python functions to perform the operations.\n",
    "# 1. Calculate the determinant of a 2x2 matrix. For any other matrix this function should raise a suitable exception.\n",
    "# 2. Calculate the inverse of a 2x2 matrix.  For any other matrix this function should raise a suitable exception.\n",
    "############## 3. Calculate the transpose of an mxn matrix. ######### not selected\n",
    "\n",
    "# Choose one of the following file operations and write a Python function to perform the operation:\n",
    "# 1. Export the matrix to a CSV file\n",
    "############## 2. Import a matrix from CSV file ######### not selected\n",
    "\n",
    "# Please use this notebook to work on Task 1. You should not import any modules."
   ]
  },
  {
   "cell_type": "code",
   "execution_count": 5,
   "metadata": {},
   "outputs": [
    {
     "name": "stdout",
     "output_type": "stream",
     "text": [
      "The matrix size [rows,columns] is:  (3, 3)\n"
     ]
    }
   ],
   "source": [
    "# Task 1: Provide the size of a matrix as a 2-dimensional tuple\n",
    "\n",
    "def matrix_size(m):\n",
    "    rows = len(m)\n",
    "    columns = len(m[0])\n",
    "    return (rows,columns)\n",
    "\n",
    "#Test code\n",
    "\n",
    "result = matrix_size(((-8,8,-8),(7,-7,7),(-6,6,-6)))\n",
    "print(f'The matrix size [rows,columns] is: ', result)\n",
    "\n",
    "# To Do\n",
    "# >add to class\n",
    "# >add docstring\n",
    "# >manual calcs"
   ]
  },
  {
   "cell_type": "code",
   "execution_count": 6,
   "metadata": {},
   "outputs": [
    {
     "name": "stdout",
     "output_type": "stream",
     "text": [
      "The matrices added are: \n",
      "[-12, 12, -12]\n",
      "[10, -10, 10]\n",
      "[-8, 8, -8]\n",
      "The matrices subtracted are: \n",
      "[-4, 4, -4]\n",
      "[4, -4, 4]\n",
      "[-4, 4, -4]\n"
     ]
    }
   ],
   "source": [
    "# Task 2: Sum/subtract the matrix with another matrix of suitable size\n",
    "\n",
    "X = [[-8,8,-8],\n",
    "    [7,-7,7],\n",
    "    [-6,6,-6]]\n",
    "\n",
    "Y = [[-4,4,-4],\n",
    "    [3,-3,3],\n",
    "    [-2,2,-2]]\n",
    "\n",
    "result_add = [[X[i][j] + Y[i][j]  for j in range(len(X[0]))] for i in range(len(X))]\n",
    "print(f'The matrices added are: ')\n",
    "\n",
    "for a in result_add:\n",
    "   print(a)\n",
    "\n",
    "result_sub = [[X[i][j] - Y[i][j]  for j in range(len(X[0]))] for i in range(len(X))]\n",
    "print(f'The matrices subtracted are: ')\n",
    "\n",
    "for s in result_sub:\n",
    "   print(s)\n",
    "\n",
    "# To Do\n",
    "# >define as functions\n",
    "# >add to class\n",
    "# >add docstring\n",
    "# >manual calcs"
   ]
  },
  {
   "cell_type": "code",
   "execution_count": 10,
   "metadata": {},
   "outputs": [
    {
     "name": "stdout",
     "output_type": "stream",
     "text": [
      "The determinant is:  58\n"
     ]
    }
   ],
   "source": [
    "# Task 3: Calculate the determinant of a 2x2 matrix. For any other matrix this function should raise a suitable exception.\n",
    "\n",
    "def Matrix(m,i,j):\n",
    "    return [row[:j] + row[j+1:] for row in (m[:i]+m[i+1:])]\n",
    "\n",
    "def matrix_determinant(m):\n",
    "    \n",
    "    if len(m) == 2:                                                             #check\n",
    "        return m[0][0]*m[1][1]-m[0][1]*m[1][0]\n",
    "\n",
    "    determinant = 0\n",
    "    for c in range(len(m)):\n",
    "        determinant += ((-1)**c)*m[0][c]*matrix_determinant(Matrix(m,0,c))\n",
    "    return determinant\n",
    "\n",
    "m = matrix_determinant(((-8,7),(2,-9)))\n",
    "print(f'The determinant is: ', m)\n",
    "\n",
    "# To Do\n",
    "# >add to class\n",
    "# >add exception for non 2x2\n",
    "# >add docstring\n",
    "# >manual calcs"
   ]
  },
  {
   "cell_type": "code",
   "execution_count": 9,
   "metadata": {},
   "outputs": [
    {
     "name": "stdout",
     "output_type": "stream",
     "text": [
      "The inverse matrix is:  [[-0.140625, -0.0625], [-0.03125, -0.125]]\n"
     ]
    }
   ],
   "source": [
    "# Task 4: Calculate the inverse of a 2x2 matrix.  For any other matrix this function should raise a suitable exception.\n",
    "\"\"\" for (a,c,b,d),      A^-1 = 1/(ad-bc)    (d  -b)\n",
    "                                            (-c  a)  \"\"\"\n",
    "\n",
    "def matrix_inv(m):\n",
    "\n",
    "    determinant = matrix_determinant(m)\n",
    "    assert (determinant !=0),\"Determinant is 0. No inverse matrix\"\n",
    "\n",
    "    return [[m[1][1]/determinant, -1*m[0][1]/determinant],\n",
    "                [-1*m[1][0]/determinant, m[0][0]/determinant]]\n",
    "\n",
    "x = matrix_inv(((-8,4),(2,-9)))\n",
    "print(f'The inverse matrix is: ', x)\n",
    "\n",
    "# To Do\n",
    "# >add to class\n",
    "# >add exception for non 2x2\n",
    "# >manual calcs"
   ]
  },
  {
   "cell_type": "code",
   "execution_count": null,
   "metadata": {},
   "outputs": [],
   "source": [
    "# Task 5 Export the matrix to a CSV file\n",
    "import csv\n",
    "\n",
    "def write_to_csv(self):\n",
    "    path = r'C:\\Desktop Synch\\UL AI\\etivity_matrix_export.csv'\n",
    "    with open(path, 'w', newline='') as f:\n",
    "        writer = csv.writer(f)\n",
    "        for row in self:\n",
    "            writer.writerow(row)\n",
    "    f.close()\n",
    "\n",
    "#Test\n",
    "write_to_csv(((4,-5),(22.9,844)))\n"
   ]
  }
 ],
 "metadata": {
  "kernelspec": {
   "display_name": "Python 3",
   "language": "python",
   "name": "python3"
  },
  "language_info": {
   "codemirror_mode": {
    "name": "ipython",
    "version": 3
   },
   "file_extension": ".py",
   "mimetype": "text/x-python",
   "name": "python",
   "nbconvert_exporter": "python",
   "pygments_lexer": "ipython3",
   "version": "3.7.3"
  }
 },
 "nbformat": 4,
 "nbformat_minor": 2
}
